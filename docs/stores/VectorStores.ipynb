{
 "cells": [
  {
   "cell_type": "markdown",
   "id": "9633eb20",
   "metadata": {},
   "source": [
    "# Vector stores\n",
    "- the vector store uses a hance dataset to merge texual dat and embeddings (stored on s3)\n",
    "- The the store itself adds question answering and data loading interface"
   ]
  },
  {
   "cell_type": "code",
   "execution_count": 1,
   "id": "72f29ac3",
   "metadata": {},
   "outputs": [],
   "source": [
    "import sys\n",
    "sys.path.append(\"../../\")"
   ]
  },
  {
   "cell_type": "code",
   "execution_count": 2,
   "id": "9d3052ee",
   "metadata": {},
   "outputs": [],
   "source": [
    "from monologue.core.data.vectors import LanceDataSet"
   ]
  },
  {
   "cell_type": "code",
   "execution_count": 3,
   "id": "9695a3e7",
   "metadata": {},
   "outputs": [
    {
     "data": {
      "text/html": [
       "<div><style>\n",
       ".dataframe > thead > tr > th,\n",
       ".dataframe > tbody > tr > td {\n",
       "  text-align: right;\n",
       "}\n",
       "</style>\n",
       "<small>shape: (5, 4)</small><table border=\"1\" class=\"dataframe\"><thead><tr><th>entity_type</th><th>id</th><th>text</th><th>vector</th></tr><tr><td>str</td><td>str</td><td>str</td><td>list[f32]</td></tr></thead><tbody><tr><td>&quot;people&quot;</td><td>&quot;Henry Jonathan…</td><td>&quot;\n",
       "\n",
       "Giant-Man\n",
       "\n",
       "\n",
       "…</td><td>[-0.058789, 0.007829, … 0.044307]</td></tr><tr><td>&quot;people&quot;</td><td>&quot;Henry Jonathan…</td><td>&quot;Doris Pym (mot…</td><td>[-0.05144, 0.005257, … 0.047564]</td></tr><tr><td>&quot;people&quot;</td><td>&quot;Henry Jonathan…</td><td>&quot;Irises:&quot;</td><td>[-0.016907, -0.028655, … 0.052312]</td></tr><tr><td>&quot;people&quot;</td><td>&quot;Henry Jonathan…</td><td>&quot;Dr. Henry &quot;Han…</td><td>[-0.044696, 0.005966, … 0.063029]</td></tr><tr><td>&quot;people&quot;</td><td>&quot;Henry Jonathan…</td><td>&quot;Hank was born …</td><td>[-0.06321, 0.009287, … 0.081358]</td></tr></tbody></table></div>"
      ],
      "text/plain": [
       "shape: (5, 4)\n",
       "┌─────────────┬───────────────────────┬─────────────────────────────────┬──────────────────────────┐\n",
       "│ entity_type ┆ id                    ┆ text                            ┆ vector                   │\n",
       "│ ---         ┆ ---                   ┆ ---                             ┆ ---                      │\n",
       "│ str         ┆ str                   ┆ str                             ┆ list[f32]                │\n",
       "╞═════════════╪═══════════════════════╪═════════════════════════════════╪══════════════════════════╡\n",
       "│ people      ┆ Henry Jonathan \"Hank\" ┆                                 ┆ [-0.058789, 0.007829, …  │\n",
       "│             ┆ Pym_0                 ┆                                 ┆ 0.044307…                │\n",
       "│             ┆                       ┆ Giant-Man                       ┆                          │\n",
       "│             ┆                       ┆                                 ┆                          │\n",
       "│             ┆                       ┆                                 ┆                          │\n",
       "│             ┆                       ┆                                 ┆                          │\n",
       "│             ┆                       ┆                                 ┆                          │\n",
       "│             ┆                       ┆                                 ┆                          │\n",
       "│             ┆                       ┆ Gallery                         ┆                          │\n",
       "│             ┆                       ┆                                 ┆                          │\n",
       "│             ┆                       ┆ Name                            ┆                          │\n",
       "│             ┆                       ┆ D…                              ┆                          │\n",
       "│ people      ┆ Henry Jonathan \"Hank\" ┆ Doris Pym (mother)Spouses:Maria ┆ [-0.05144, 0.005257, …   │\n",
       "│             ┆ Pym_1                 ┆ …                               ┆ 0.047564]                │\n",
       "│ people      ┆ Henry Jonathan \"Hank\" ┆ Irises:                         ┆ [-0.016907, -0.028655, … │\n",
       "│             ┆ Pym_2                 ┆                                 ┆ 0.05231…                 │\n",
       "│ people      ┆ Henry Jonathan \"Hank\" ┆ Dr. Henry \"Hank\" Pym, Ph.D,[20] ┆ [-0.044696, 0.005966, …  │\n",
       "│             ┆ Pym_3                 ┆ …                               ┆ 0.063029…                │\n",
       "│ people      ┆ Henry Jonathan \"Hank\" ┆ Hank was born and raised in     ┆ [-0.06321, 0.009287, …   │\n",
       "│             ┆ Pym_4                 ┆ East…                           ┆ 0.081358]                │\n",
       "└─────────────┴───────────────────────┴─────────────────────────────────┴──────────────────────────┘"
      ]
     },
     "execution_count": 3,
     "metadata": {},
     "output_type": "execute_result"
    }
   ],
   "source": [
    "ds = LanceDataSet('examples_AvengingPassengersInstruct')\n",
    "ds.load().head()"
   ]
  },
  {
   "cell_type": "code",
   "execution_count": 14,
   "id": "5fe7073c",
   "metadata": {},
   "outputs": [
    {
     "name": "stdout",
     "output_type": "stream",
     "text": [
      "load INSTRUCTOR_Transformer\n",
      "max_seq_length  512\n",
      "load INSTRUCTOR_Transformer\n",
      "max_seq_length  512\n"
     ]
    },
    {
     "data": {
      "text/plain": [
       "<monologue.core.data.stores.VectorStore.VectorDataStore at 0x1b3e66f50>"
      ]
     },
     "execution_count": 14,
     "metadata": {},
     "output_type": "execute_result"
    }
   ],
   "source": [
    "from warnings import filterwarnings\n",
    "filterwarnings('ignore')\n",
    "from monologue.entities.examples import AvengingPassengersInstruct\n",
    "from monologue.core.data.stores import VectorDataStore\n",
    "store = VectorDataStore(AvengingPassengersInstruct)\n",
    "store"
   ]
  },
  {
   "cell_type": "code",
   "execution_count": 18,
   "id": "6b3caabd",
   "metadata": {},
   "outputs": [
    {
     "data": {
      "text/html": [
       "<div><style>\n",
       ".dataframe > thead > tr > th,\n",
       ".dataframe > tbody > tr > td {\n",
       "  text-align: right;\n",
       "}\n",
       "</style>\n",
       "<small>shape: (8_111, 5)</small><table border=\"1\" class=\"dataframe\"><thead><tr><th>entity_type</th><th>id</th><th>text</th><th>vector</th><th>doc_id</th></tr><tr><td>str</td><td>str</td><td>str</td><td>list[f32]</td><td>str</td></tr></thead><tbody><tr><td>&quot;people&quot;</td><td>&quot;Henry Jonathan…</td><td>&quot;\n",
       "\n",
       "Giant-Man\n",
       "\n",
       "\n",
       "…</td><td>[-0.058789, 0.007829, … 0.044307]</td><td>&quot;0&quot;</td></tr><tr><td>&quot;people&quot;</td><td>&quot;Henry Jonathan…</td><td>&quot;Doris Pym (mot…</td><td>[-0.05144, 0.005257, … 0.047564]</td><td>&quot;1&quot;</td></tr><tr><td>&quot;people&quot;</td><td>&quot;Henry Jonathan…</td><td>&quot;Irises:&quot;</td><td>[-0.016907, -0.028655, … 0.052312]</td><td>&quot;2&quot;</td></tr><tr><td>&quot;people&quot;</td><td>&quot;Henry Jonathan…</td><td>&quot;Dr. Henry &quot;Han…</td><td>[-0.044696, 0.005966, … 0.063029]</td><td>&quot;3&quot;</td></tr><tr><td>&quot;people&quot;</td><td>&quot;Henry Jonathan…</td><td>&quot;Hank was born …</td><td>[-0.06321, 0.009287, … 0.081358]</td><td>&quot;4&quot;</td></tr><tr><td>&quot;people&quot;</td><td>&quot;Henry Jonathan…</td><td>&quot;He attended un…</td><td>[-0.009999, -0.002193, … 0.067259]</td><td>&quot;5&quot;</td></tr><tr><td>&quot;people&quot;</td><td>&quot;Henry Jonathan…</td><td>&quot;He married Mar…</td><td>[-0.038682, -0.031922, … 0.047588]</td><td>&quot;6&quot;</td></tr><tr><td>&quot;people&quot;</td><td>&quot;Henry Jonathan…</td><td>&quot;Back in the Un…</td><td>[-0.044907, -0.010296, … 0.051012]</td><td>&quot;7&quot;</td></tr><tr><td>&quot;people&quot;</td><td>&quot;Henry Jonathan…</td><td>&quot;Hank Pym as An…</td><td>[-0.055377, 0.013015, … 0.065359]</td><td>&quot;8&quot;</td></tr><tr><td>&quot;people&quot;</td><td>&quot;Henry Jonathan…</td><td>&quot;However, weeks…</td><td>[-0.050783, 0.006711, … 0.059938]</td><td>&quot;9&quot;</td></tr><tr><td>&quot;people&quot;</td><td>&quot;Henry Jonathan…</td><td>&quot;After an alien…</td><td>[-0.075102, 0.011126, … 0.044875]</td><td>&quot;10&quot;</td></tr><tr><td>&quot;people&quot;</td><td>&quot;Henry Jonathan…</td><td>&quot;Giant-Man and …</td><td>[-0.049706, 0.008888, … 0.053935]</td><td>&quot;11&quot;</td></tr><tr><td>&hellip;</td><td>&hellip;</td><td>&hellip;</td><td>&hellip;</td><td>&hellip;</td></tr><tr><td>&quot;people&quot;</td><td>&quot;Kaluu_7&quot;</td><td>&quot;In November 19…</td><td>[-0.049343, -0.022147, … 0.064973]</td><td>&quot;7&quot;</td></tr><tr><td>&quot;people&quot;</td><td>&quot;Kaluu_8&quot;</td><td>&quot;In his final y…</td><td>[-0.029322, 0.003558, … 0.076652]</td><td>&quot;8&quot;</td></tr><tr><td>&quot;people&quot;</td><td>&quot;Kaluu_9&quot;</td><td>&quot;Years later, a…</td><td>[-0.041397, -0.002869, … 0.072033]</td><td>&quot;9&quot;</td></tr><tr><td>&quot;people&quot;</td><td>&quot;Kaluu_10&quot;</td><td>&quot;Doctor Strange…</td><td>[-0.033845, -0.008865, … 0.061466]</td><td>&quot;10&quot;</td></tr><tr><td>&quot;people&quot;</td><td>&quot;Kaluu_11&quot;</td><td>&quot;Together, Kalu…</td><td>[-0.025592, -0.012702, … 0.059674]</td><td>&quot;11&quot;</td></tr><tr><td>&quot;people&quot;</td><td>&quot;Kaluu_12&quot;</td><td>&quot;Since then Doc…</td><td>[-0.018728, 0.005965, … 0.052807]</td><td>&quot;12&quot;</td></tr><tr><td>&quot;people&quot;</td><td>&quot;Kaluu_13&quot;</td><td>&quot;Kaluu was late…</td><td>[-0.038195, 0.001584, … 0.08405]</td><td>&quot;13&quot;</td></tr><tr><td>&quot;people&quot;</td><td>&quot;Kaluu_14&quot;</td><td>&quot;Kaluu is a pow…</td><td>[-0.035411, -0.011712, … 0.067786]</td><td>&quot;14&quot;</td></tr><tr><td>&quot;people&quot;</td><td>&quot;Kaluu_15&quot;</td><td>&quot;Expert Occulti…</td><td>[-0.037227, 0.000086, … 0.081121]</td><td>&quot;15&quot;</td></tr><tr><td>&quot;people&quot;</td><td>&quot;Kaluu_16&quot;</td><td>&quot;Skilled Martia…</td><td>[-0.014153, -0.024347, … 0.103939]</td><td>&quot;16&quot;</td></tr><tr><td>null</td><td>&quot;-1&quot;</td><td>&quot;test&quot;</td><td>[-0.002988, -0.060094, … 0.052217]</td><td>&quot;-1&quot;</td></tr><tr><td>null</td><td>&quot;-1&quot;</td><td>&quot;test&quot;</td><td>[-0.002988, -0.060094, … 0.052217]</td><td>&quot;-1&quot;</td></tr></tbody></table></div>"
      ],
      "text/plain": [
       "shape: (8_111, 5)\n",
       "┌─────────────┬─────────────────────────┬────────────────────────┬────────────────────────┬────────┐\n",
       "│ entity_type ┆ id                      ┆ text                   ┆ vector                 ┆ doc_id │\n",
       "│ ---         ┆ ---                     ┆ ---                    ┆ ---                    ┆ ---    │\n",
       "│ str         ┆ str                     ┆ str                    ┆ list[f32]              ┆ str    │\n",
       "╞═════════════╪═════════════════════════╪════════════════════════╪════════════════════════╪════════╡\n",
       "│ people      ┆ Henry Jonathan \"Hank\"   ┆                        ┆ [-0.058789, 0.007829,  ┆ 0      │\n",
       "│             ┆ Pym_0                   ┆                        ┆ … 0.044307…            ┆        │\n",
       "│             ┆                         ┆ Giant-Man              ┆                        ┆        │\n",
       "│             ┆                         ┆                        ┆                        ┆        │\n",
       "│             ┆                         ┆                        ┆                        ┆        │\n",
       "│             ┆                         ┆                        ┆                        ┆        │\n",
       "│             ┆                         ┆                        ┆                        ┆        │\n",
       "│             ┆                         ┆                        ┆                        ┆        │\n",
       "│             ┆                         ┆ Gallery                ┆                        ┆        │\n",
       "│             ┆                         ┆                        ┆                        ┆        │\n",
       "│             ┆                         ┆ Name                   ┆                        ┆        │\n",
       "│             ┆                         ┆ D…                     ┆                        ┆        │\n",
       "│ people      ┆ Henry Jonathan \"Hank\"   ┆ Doris Pym              ┆ [-0.05144, 0.005257, … ┆ 1      │\n",
       "│             ┆ Pym_1                   ┆ (mother)Spouses:Maria  ┆ 0.047564]              ┆        │\n",
       "│             ┆                         ┆ …                      ┆                        ┆        │\n",
       "│ people      ┆ Henry Jonathan \"Hank\"   ┆ Irises:                ┆ [-0.016907, -0.028655, ┆ 2      │\n",
       "│             ┆ Pym_2                   ┆                        ┆ … 0.05231…             ┆        │\n",
       "│ people      ┆ Henry Jonathan \"Hank\"   ┆ Dr. Henry \"Hank\" Pym,  ┆ [-0.044696, 0.005966,  ┆ 3      │\n",
       "│             ┆ Pym_3                   ┆ Ph.D,[20] …            ┆ … 0.063029…            ┆        │\n",
       "│ …           ┆ …                       ┆ …                      ┆ …                      ┆ …      │\n",
       "│ people      ┆ Kaluu_15                ┆ Expert                 ┆ [-0.037227, 0.000086,  ┆ 15     │\n",
       "│             ┆                         ┆ Occultist/Expert       ┆ … 0.081121…            ┆        │\n",
       "│             ┆                         ┆ Magical …              ┆                        ┆        │\n",
       "│ people      ┆ Kaluu_16                ┆ Skilled Martial        ┆ [-0.014153, -0.024347, ┆ 16     │\n",
       "│             ┆                         ┆ Artist: Kaluu is…      ┆ … 0.10393…             ┆        │\n",
       "│ null        ┆ -1                      ┆ test                   ┆ [-0.002988, -0.060094, ┆ -1     │\n",
       "│             ┆                         ┆                        ┆ … 0.05221…             ┆        │\n",
       "│ null        ┆ -1                      ┆ test                   ┆ [-0.002988, -0.060094, ┆ -1     │\n",
       "│             ┆                         ┆                        ┆ … 0.05221…             ┆        │\n",
       "└─────────────┴─────────────────────────┴────────────────────────┴────────────────────────┴────────┘"
      ]
     },
     "execution_count": 18,
     "metadata": {},
     "output_type": "execute_result"
    }
   ],
   "source": [
    "df = store.load()\n",
    "df"
   ]
  },
  {
   "cell_type": "code",
   "execution_count": 16,
   "id": "369f238d",
   "metadata": {},
   "outputs": [
    {
     "ename": "ValueError",
     "evalue": "LanceError(IO): KNNFlatExec node: query column vector is not a vector",
     "output_type": "error",
     "traceback": [
      "\u001b[0;31m---------------------------------------------------------------------------\u001b[0m",
      "\u001b[0;31mValueError\u001b[0m                                Traceback (most recent call last)",
      "Cell \u001b[0;32mIn[16], line 1\u001b[0m\n\u001b[0;32m----> 1\u001b[0m \u001b[43mstore\u001b[49m\u001b[38;5;241;43m.\u001b[39;49m\u001b[43mquery_index\u001b[49m\u001b[43m(\u001b[49m\u001b[38;5;124;43m\"\u001b[39;49m\u001b[38;5;124;43mHank Pym who is he\u001b[39;49m\u001b[38;5;124;43m\"\u001b[39;49m\u001b[43m)\u001b[49m\n",
      "File \u001b[0;32m~/code/mr_saoirse/monologue/docs/stores/../../monologue/core/data/stores/VectorStore.py:77\u001b[0m, in \u001b[0;36mVectorDataStore.query_index\u001b[0;34m(self, question)\u001b[0m\n\u001b[1;32m     76\u001b[0m \u001b[38;5;28;01mdef\u001b[39;00m \u001b[38;5;21mquery_index\u001b[39m(\u001b[38;5;28mself\u001b[39m, question):\n\u001b[0;32m---> 77\u001b[0m     \u001b[38;5;28;43mself\u001b[39;49m\u001b[38;5;241;43m.\u001b[39;49m\u001b[43m_query_engine\u001b[49m\u001b[38;5;241;43m.\u001b[39;49m\u001b[43mquery\u001b[49m\u001b[43m(\u001b[49m\u001b[43mquestion\u001b[49m\u001b[43m)\u001b[49m\n",
      "File \u001b[0;32m/Library/Frameworks/Python.framework/Versions/3.10/lib/python3.10/site-packages/llama_index/indices/query/base.py:23\u001b[0m, in \u001b[0;36mBaseQueryEngine.query\u001b[0;34m(self, str_or_query_bundle)\u001b[0m\n\u001b[1;32m     21\u001b[0m \u001b[38;5;28;01mif\u001b[39;00m \u001b[38;5;28misinstance\u001b[39m(str_or_query_bundle, \u001b[38;5;28mstr\u001b[39m):\n\u001b[1;32m     22\u001b[0m     str_or_query_bundle \u001b[38;5;241m=\u001b[39m QueryBundle(str_or_query_bundle)\n\u001b[0;32m---> 23\u001b[0m response \u001b[38;5;241m=\u001b[39m \u001b[38;5;28;43mself\u001b[39;49m\u001b[38;5;241;43m.\u001b[39;49m\u001b[43m_query\u001b[49m\u001b[43m(\u001b[49m\u001b[43mstr_or_query_bundle\u001b[49m\u001b[43m)\u001b[49m\n\u001b[1;32m     24\u001b[0m \u001b[38;5;28;01mreturn\u001b[39;00m response\n",
      "File \u001b[0;32m/Library/Frameworks/Python.framework/Versions/3.10/lib/python3.10/site-packages/llama_index/query_engine/retriever_query_engine.py:172\u001b[0m, in \u001b[0;36mRetrieverQueryEngine._query\u001b[0;34m(self, query_bundle)\u001b[0m\n\u001b[1;32m    165\u001b[0m \u001b[38;5;28;01mwith\u001b[39;00m \u001b[38;5;28mself\u001b[39m\u001b[38;5;241m.\u001b[39mcallback_manager\u001b[38;5;241m.\u001b[39mevent(\n\u001b[1;32m    166\u001b[0m     CBEventType\u001b[38;5;241m.\u001b[39mQUERY, payload\u001b[38;5;241m=\u001b[39m{EventPayload\u001b[38;5;241m.\u001b[39mQUERY_STR: query_bundle\u001b[38;5;241m.\u001b[39mquery_str}\n\u001b[1;32m    167\u001b[0m ) \u001b[38;5;28;01mas\u001b[39;00m query_event:\n\u001b[1;32m    168\u001b[0m     \u001b[38;5;28;01mwith\u001b[39;00m \u001b[38;5;28mself\u001b[39m\u001b[38;5;241m.\u001b[39mcallback_manager\u001b[38;5;241m.\u001b[39mevent(\n\u001b[1;32m    169\u001b[0m         CBEventType\u001b[38;5;241m.\u001b[39mRETRIEVE,\n\u001b[1;32m    170\u001b[0m         payload\u001b[38;5;241m=\u001b[39m{EventPayload\u001b[38;5;241m.\u001b[39mQUERY_STR: query_bundle\u001b[38;5;241m.\u001b[39mquery_str},\n\u001b[1;32m    171\u001b[0m     ) \u001b[38;5;28;01mas\u001b[39;00m retrieve_event:\n\u001b[0;32m--> 172\u001b[0m         nodes \u001b[38;5;241m=\u001b[39m \u001b[38;5;28;43mself\u001b[39;49m\u001b[38;5;241;43m.\u001b[39;49m\u001b[43mretrieve\u001b[49m\u001b[43m(\u001b[49m\u001b[43mquery_bundle\u001b[49m\u001b[43m)\u001b[49m\n\u001b[1;32m    174\u001b[0m         retrieve_event\u001b[38;5;241m.\u001b[39mon_end(\n\u001b[1;32m    175\u001b[0m             payload\u001b[38;5;241m=\u001b[39m{EventPayload\u001b[38;5;241m.\u001b[39mNODES: nodes},\n\u001b[1;32m    176\u001b[0m         )\n\u001b[1;32m    178\u001b[0m     response \u001b[38;5;241m=\u001b[39m \u001b[38;5;28mself\u001b[39m\u001b[38;5;241m.\u001b[39m_response_synthesizer\u001b[38;5;241m.\u001b[39msynthesize(\n\u001b[1;32m    179\u001b[0m         query\u001b[38;5;241m=\u001b[39mquery_bundle,\n\u001b[1;32m    180\u001b[0m         nodes\u001b[38;5;241m=\u001b[39mnodes,\n\u001b[1;32m    181\u001b[0m     )\n",
      "File \u001b[0;32m/Library/Frameworks/Python.framework/Versions/3.10/lib/python3.10/site-packages/llama_index/query_engine/retriever_query_engine.py:120\u001b[0m, in \u001b[0;36mRetrieverQueryEngine.retrieve\u001b[0;34m(self, query_bundle)\u001b[0m\n\u001b[1;32m    119\u001b[0m \u001b[38;5;28;01mdef\u001b[39;00m \u001b[38;5;21mretrieve\u001b[39m(\u001b[38;5;28mself\u001b[39m, query_bundle: QueryBundle) \u001b[38;5;241m-\u001b[39m\u001b[38;5;241m>\u001b[39m List[NodeWithScore]:\n\u001b[0;32m--> 120\u001b[0m     nodes \u001b[38;5;241m=\u001b[39m \u001b[38;5;28;43mself\u001b[39;49m\u001b[38;5;241;43m.\u001b[39;49m\u001b[43m_retriever\u001b[49m\u001b[38;5;241;43m.\u001b[39;49m\u001b[43mretrieve\u001b[49m\u001b[43m(\u001b[49m\u001b[43mquery_bundle\u001b[49m\u001b[43m)\u001b[49m\n\u001b[1;32m    121\u001b[0m     nodes \u001b[38;5;241m=\u001b[39m \u001b[38;5;28mself\u001b[39m\u001b[38;5;241m.\u001b[39m_apply_node_postprocessors(nodes, query_bundle\u001b[38;5;241m=\u001b[39mquery_bundle)\n\u001b[1;32m    123\u001b[0m     \u001b[38;5;28;01mreturn\u001b[39;00m nodes\n",
      "File \u001b[0;32m/Library/Frameworks/Python.framework/Versions/3.10/lib/python3.10/site-packages/llama_index/indices/base_retriever.py:22\u001b[0m, in \u001b[0;36mBaseRetriever.retrieve\u001b[0;34m(self, str_or_query_bundle)\u001b[0m\n\u001b[1;32m     20\u001b[0m \u001b[38;5;28;01mif\u001b[39;00m \u001b[38;5;28misinstance\u001b[39m(str_or_query_bundle, \u001b[38;5;28mstr\u001b[39m):\n\u001b[1;32m     21\u001b[0m     str_or_query_bundle \u001b[38;5;241m=\u001b[39m QueryBundle(str_or_query_bundle)\n\u001b[0;32m---> 22\u001b[0m \u001b[38;5;28;01mreturn\u001b[39;00m \u001b[38;5;28;43mself\u001b[39;49m\u001b[38;5;241;43m.\u001b[39;49m\u001b[43m_retrieve\u001b[49m\u001b[43m(\u001b[49m\u001b[43mstr_or_query_bundle\u001b[49m\u001b[43m)\u001b[49m\n",
      "File \u001b[0;32m/Library/Frameworks/Python.framework/Versions/3.10/lib/python3.10/site-packages/llama_index/indices/vector_store/retrievers/retriever.py:87\u001b[0m, in \u001b[0;36mVectorIndexRetriever._retrieve\u001b[0;34m(self, query_bundle)\u001b[0m\n\u001b[1;32m     81\u001b[0m     \u001b[38;5;28;01mif\u001b[39;00m query_bundle\u001b[38;5;241m.\u001b[39membedding \u001b[38;5;129;01mis\u001b[39;00m \u001b[38;5;28;01mNone\u001b[39;00m \u001b[38;5;129;01mand\u001b[39;00m \u001b[38;5;28mlen\u001b[39m(query_bundle\u001b[38;5;241m.\u001b[39membedding_strs) \u001b[38;5;241m>\u001b[39m \u001b[38;5;241m0\u001b[39m:\n\u001b[1;32m     82\u001b[0m         query_bundle\u001b[38;5;241m.\u001b[39membedding \u001b[38;5;241m=\u001b[39m (\n\u001b[1;32m     83\u001b[0m             \u001b[38;5;28mself\u001b[39m\u001b[38;5;241m.\u001b[39m_service_context\u001b[38;5;241m.\u001b[39membed_model\u001b[38;5;241m.\u001b[39mget_agg_embedding_from_queries(\n\u001b[1;32m     84\u001b[0m                 query_bundle\u001b[38;5;241m.\u001b[39membedding_strs\n\u001b[1;32m     85\u001b[0m             )\n\u001b[1;32m     86\u001b[0m         )\n\u001b[0;32m---> 87\u001b[0m \u001b[38;5;28;01mreturn\u001b[39;00m \u001b[38;5;28;43mself\u001b[39;49m\u001b[38;5;241;43m.\u001b[39;49m\u001b[43m_get_nodes_with_embeddings\u001b[49m\u001b[43m(\u001b[49m\u001b[43mquery_bundle\u001b[49m\u001b[43m)\u001b[49m\n",
      "File \u001b[0;32m/Library/Frameworks/Python.framework/Versions/3.10/lib/python3.10/site-packages/llama_index/indices/vector_store/retrievers/retriever.py:164\u001b[0m, in \u001b[0;36mVectorIndexRetriever._get_nodes_with_embeddings\u001b[0;34m(self, query_bundle_with_embeddings)\u001b[0m\n\u001b[1;32m    160\u001b[0m \u001b[38;5;28;01mdef\u001b[39;00m \u001b[38;5;21m_get_nodes_with_embeddings\u001b[39m(\n\u001b[1;32m    161\u001b[0m     \u001b[38;5;28mself\u001b[39m, query_bundle_with_embeddings: QueryBundle\n\u001b[1;32m    162\u001b[0m ) \u001b[38;5;241m-\u001b[39m\u001b[38;5;241m>\u001b[39m List[NodeWithScore]:\n\u001b[1;32m    163\u001b[0m     query \u001b[38;5;241m=\u001b[39m \u001b[38;5;28mself\u001b[39m\u001b[38;5;241m.\u001b[39m_build_vector_store_query(query_bundle_with_embeddings)\n\u001b[0;32m--> 164\u001b[0m     query_result \u001b[38;5;241m=\u001b[39m \u001b[38;5;28;43mself\u001b[39;49m\u001b[38;5;241;43m.\u001b[39;49m\u001b[43m_vector_store\u001b[49m\u001b[38;5;241;43m.\u001b[39;49m\u001b[43mquery\u001b[49m\u001b[43m(\u001b[49m\u001b[43mquery\u001b[49m\u001b[43m,\u001b[49m\u001b[43m \u001b[49m\u001b[38;5;241;43m*\u001b[39;49m\u001b[38;5;241;43m*\u001b[39;49m\u001b[38;5;28;43mself\u001b[39;49m\u001b[38;5;241;43m.\u001b[39;49m\u001b[43m_kwargs\u001b[49m\u001b[43m)\u001b[49m\n\u001b[1;32m    165\u001b[0m     \u001b[38;5;28;01mreturn\u001b[39;00m \u001b[38;5;28mself\u001b[39m\u001b[38;5;241m.\u001b[39m_build_node_list_from_query_result(query_result)\n",
      "File \u001b[0;32m/Library/Frameworks/Python.framework/Versions/3.10/lib/python3.10/site-packages/llama_index/vector_stores/lancedb.py:165\u001b[0m, in \u001b[0;36mLanceDBVectorStore.query\u001b[0;34m(self, query, **kwargs)\u001b[0m\n\u001b[1;32m    162\u001b[0m \u001b[38;5;28;01mif\u001b[39;00m \u001b[38;5;28mself\u001b[39m\u001b[38;5;241m.\u001b[39mrefine_factor \u001b[38;5;129;01mis\u001b[39;00m \u001b[38;5;129;01mnot\u001b[39;00m \u001b[38;5;28;01mNone\u001b[39;00m:\n\u001b[1;32m    163\u001b[0m     lance_query\u001b[38;5;241m.\u001b[39mrefine_factor(\u001b[38;5;28mself\u001b[39m\u001b[38;5;241m.\u001b[39mrefine_factor)\n\u001b[0;32m--> 165\u001b[0m results \u001b[38;5;241m=\u001b[39m \u001b[43mlance_query\u001b[49m\u001b[38;5;241;43m.\u001b[39;49m\u001b[43mto_df\u001b[49m\u001b[43m(\u001b[49m\u001b[43m)\u001b[49m\n\u001b[1;32m    166\u001b[0m nodes \u001b[38;5;241m=\u001b[39m []\n\u001b[1;32m    167\u001b[0m \u001b[38;5;28;01mfor\u001b[39;00m _, item \u001b[38;5;129;01min\u001b[39;00m results\u001b[38;5;241m.\u001b[39miterrows():\n",
      "File \u001b[0;32m/Library/Frameworks/Python.framework/Versions/3.10/lib/python3.10/site-packages/lancedb/query.py:212\u001b[0m, in \u001b[0;36mLanceQueryBuilder.to_df\u001b[0;34m(self)\u001b[0m\n\u001b[1;32m    204\u001b[0m \u001b[38;5;28;01mdef\u001b[39;00m \u001b[38;5;21mto_df\u001b[39m(\u001b[38;5;28mself\u001b[39m) \u001b[38;5;241m-\u001b[39m\u001b[38;5;241m>\u001b[39m \u001b[38;5;124m\"\u001b[39m\u001b[38;5;124mpd.DataFrame\u001b[39m\u001b[38;5;124m\"\u001b[39m:\n\u001b[1;32m    205\u001b[0m \u001b[38;5;250m    \u001b[39m\u001b[38;5;124;03m\"\"\"\u001b[39;00m\n\u001b[1;32m    206\u001b[0m \u001b[38;5;124;03m    Execute the query and return the results as a pandas DataFrame.\u001b[39;00m\n\u001b[1;32m    207\u001b[0m \u001b[38;5;124;03m    In addition to the selected columns, LanceDB also returns a vector\u001b[39;00m\n\u001b[1;32m    208\u001b[0m \u001b[38;5;124;03m    and also the \"_distance\" column which is the distance between the query\u001b[39;00m\n\u001b[1;32m    209\u001b[0m \u001b[38;5;124;03m    vector and the returned vector.\u001b[39;00m\n\u001b[1;32m    210\u001b[0m \u001b[38;5;124;03m    \"\"\"\u001b[39;00m\n\u001b[0;32m--> 212\u001b[0m     \u001b[38;5;28;01mreturn\u001b[39;00m \u001b[38;5;28;43mself\u001b[39;49m\u001b[38;5;241;43m.\u001b[39;49m\u001b[43mto_arrow\u001b[49m\u001b[43m(\u001b[49m\u001b[43m)\u001b[49m\u001b[38;5;241m.\u001b[39mto_pandas()\n",
      "File \u001b[0;32m/Library/Frameworks/Python.framework/Versions/3.10/lib/python3.10/site-packages/lancedb/query.py:234\u001b[0m, in \u001b[0;36mLanceQueryBuilder.to_arrow\u001b[0;34m(self)\u001b[0m\n\u001b[1;32m    223\u001b[0m vector \u001b[38;5;241m=\u001b[39m \u001b[38;5;28mself\u001b[39m\u001b[38;5;241m.\u001b[39m_query \u001b[38;5;28;01mif\u001b[39;00m \u001b[38;5;28misinstance\u001b[39m(\u001b[38;5;28mself\u001b[39m\u001b[38;5;241m.\u001b[39m_query, \u001b[38;5;28mlist\u001b[39m) \u001b[38;5;28;01melse\u001b[39;00m \u001b[38;5;28mself\u001b[39m\u001b[38;5;241m.\u001b[39m_query\u001b[38;5;241m.\u001b[39mtolist()\n\u001b[1;32m    224\u001b[0m query \u001b[38;5;241m=\u001b[39m Query(\n\u001b[1;32m    225\u001b[0m     vector\u001b[38;5;241m=\u001b[39mvector,\n\u001b[1;32m    226\u001b[0m     \u001b[38;5;28mfilter\u001b[39m\u001b[38;5;241m=\u001b[39m\u001b[38;5;28mself\u001b[39m\u001b[38;5;241m.\u001b[39m_where,\n\u001b[0;32m   (...)\u001b[0m\n\u001b[1;32m    232\u001b[0m     vector_column\u001b[38;5;241m=\u001b[39m\u001b[38;5;28mself\u001b[39m\u001b[38;5;241m.\u001b[39m_vector_column,\n\u001b[1;32m    233\u001b[0m )\n\u001b[0;32m--> 234\u001b[0m \u001b[38;5;28;01mreturn\u001b[39;00m \u001b[38;5;28;43mself\u001b[39;49m\u001b[38;5;241;43m.\u001b[39;49m\u001b[43m_table\u001b[49m\u001b[38;5;241;43m.\u001b[39;49m\u001b[43m_execute_query\u001b[49m\u001b[43m(\u001b[49m\u001b[43mquery\u001b[49m\u001b[43m)\u001b[49m\n",
      "File \u001b[0;32m/Library/Frameworks/Python.framework/Versions/3.10/lib/python3.10/site-packages/lancedb/table.py:558\u001b[0m, in \u001b[0;36mLanceTable._execute_query\u001b[0;34m(self, query)\u001b[0m\n\u001b[1;32m    556\u001b[0m \u001b[38;5;28;01mdef\u001b[39;00m \u001b[38;5;21m_execute_query\u001b[39m(\u001b[38;5;28mself\u001b[39m, query: Query) \u001b[38;5;241m-\u001b[39m\u001b[38;5;241m>\u001b[39m pa\u001b[38;5;241m.\u001b[39mTable:\n\u001b[1;32m    557\u001b[0m     ds \u001b[38;5;241m=\u001b[39m \u001b[38;5;28mself\u001b[39m\u001b[38;5;241m.\u001b[39mto_lance()\n\u001b[0;32m--> 558\u001b[0m     \u001b[38;5;28;01mreturn\u001b[39;00m \u001b[43mds\u001b[49m\u001b[38;5;241;43m.\u001b[39;49m\u001b[43mto_table\u001b[49m\u001b[43m(\u001b[49m\n\u001b[1;32m    559\u001b[0m \u001b[43m        \u001b[49m\u001b[43mcolumns\u001b[49m\u001b[38;5;241;43m=\u001b[39;49m\u001b[43mquery\u001b[49m\u001b[38;5;241;43m.\u001b[39;49m\u001b[43mcolumns\u001b[49m\u001b[43m,\u001b[49m\n\u001b[1;32m    560\u001b[0m \u001b[43m        \u001b[49m\u001b[38;5;28;43mfilter\u001b[39;49m\u001b[38;5;241;43m=\u001b[39;49m\u001b[43mquery\u001b[49m\u001b[38;5;241;43m.\u001b[39;49m\u001b[43mfilter\u001b[49m\u001b[43m,\u001b[49m\n\u001b[1;32m    561\u001b[0m \u001b[43m        \u001b[49m\u001b[43mnearest\u001b[49m\u001b[38;5;241;43m=\u001b[39;49m\u001b[43m{\u001b[49m\n\u001b[1;32m    562\u001b[0m \u001b[43m            \u001b[49m\u001b[38;5;124;43m\"\u001b[39;49m\u001b[38;5;124;43mcolumn\u001b[39;49m\u001b[38;5;124;43m\"\u001b[39;49m\u001b[43m:\u001b[49m\u001b[43m \u001b[49m\u001b[43mquery\u001b[49m\u001b[38;5;241;43m.\u001b[39;49m\u001b[43mvector_column\u001b[49m\u001b[43m,\u001b[49m\n\u001b[1;32m    563\u001b[0m \u001b[43m            \u001b[49m\u001b[38;5;124;43m\"\u001b[39;49m\u001b[38;5;124;43mq\u001b[39;49m\u001b[38;5;124;43m\"\u001b[39;49m\u001b[43m:\u001b[49m\u001b[43m \u001b[49m\u001b[43mquery\u001b[49m\u001b[38;5;241;43m.\u001b[39;49m\u001b[43mvector\u001b[49m\u001b[43m,\u001b[49m\n\u001b[1;32m    564\u001b[0m \u001b[43m            \u001b[49m\u001b[38;5;124;43m\"\u001b[39;49m\u001b[38;5;124;43mk\u001b[39;49m\u001b[38;5;124;43m\"\u001b[39;49m\u001b[43m:\u001b[49m\u001b[43m \u001b[49m\u001b[43mquery\u001b[49m\u001b[38;5;241;43m.\u001b[39;49m\u001b[43mk\u001b[49m\u001b[43m,\u001b[49m\n\u001b[1;32m    565\u001b[0m \u001b[43m            \u001b[49m\u001b[38;5;124;43m\"\u001b[39;49m\u001b[38;5;124;43mmetric\u001b[39;49m\u001b[38;5;124;43m\"\u001b[39;49m\u001b[43m:\u001b[49m\u001b[43m \u001b[49m\u001b[43mquery\u001b[49m\u001b[38;5;241;43m.\u001b[39;49m\u001b[43mmetric\u001b[49m\u001b[43m,\u001b[49m\n\u001b[1;32m    566\u001b[0m \u001b[43m            \u001b[49m\u001b[38;5;124;43m\"\u001b[39;49m\u001b[38;5;124;43mnprobes\u001b[39;49m\u001b[38;5;124;43m\"\u001b[39;49m\u001b[43m:\u001b[49m\u001b[43m \u001b[49m\u001b[43mquery\u001b[49m\u001b[38;5;241;43m.\u001b[39;49m\u001b[43mnprobes\u001b[49m\u001b[43m,\u001b[49m\n\u001b[1;32m    567\u001b[0m \u001b[43m            \u001b[49m\u001b[38;5;124;43m\"\u001b[39;49m\u001b[38;5;124;43mrefine_factor\u001b[39;49m\u001b[38;5;124;43m\"\u001b[39;49m\u001b[43m:\u001b[49m\u001b[43m \u001b[49m\u001b[43mquery\u001b[49m\u001b[38;5;241;43m.\u001b[39;49m\u001b[43mrefine_factor\u001b[49m\u001b[43m,\u001b[49m\n\u001b[1;32m    568\u001b[0m \u001b[43m        \u001b[49m\u001b[43m}\u001b[49m\u001b[43m,\u001b[49m\n\u001b[1;32m    569\u001b[0m \u001b[43m    \u001b[49m\u001b[43m)\u001b[49m\n",
      "File \u001b[0;32m/Library/Frameworks/Python.framework/Versions/3.10/lib/python3.10/site-packages/lance/dataset.py:264\u001b[0m, in \u001b[0;36mLanceDataset.to_table\u001b[0;34m(self, columns, filter, limit, offset, nearest, batch_size, batch_readahead, fragment_readahead, scan_in_order)\u001b[0m\n\u001b[1;32m    196\u001b[0m \u001b[38;5;28;01mdef\u001b[39;00m \u001b[38;5;21mto_table\u001b[39m(\n\u001b[1;32m    197\u001b[0m     \u001b[38;5;28mself\u001b[39m,\n\u001b[1;32m    198\u001b[0m     columns: Optional[\u001b[38;5;28mlist\u001b[39m[\u001b[38;5;28mstr\u001b[39m]] \u001b[38;5;241m=\u001b[39m \u001b[38;5;28;01mNone\u001b[39;00m,\n\u001b[0;32m   (...)\u001b[0m\n\u001b[1;32m    206\u001b[0m     scan_in_order: \u001b[38;5;28mbool\u001b[39m \u001b[38;5;241m=\u001b[39m \u001b[38;5;28;01mTrue\u001b[39;00m,\n\u001b[1;32m    207\u001b[0m ) \u001b[38;5;241m-\u001b[39m\u001b[38;5;241m>\u001b[39m pa\u001b[38;5;241m.\u001b[39mTable:\n\u001b[1;32m    208\u001b[0m \u001b[38;5;250m    \u001b[39m\u001b[38;5;124;03m\"\"\"Read the data into memory as a pyarrow Table.\u001b[39;00m\n\u001b[1;32m    209\u001b[0m \n\u001b[1;32m    210\u001b[0m \u001b[38;5;124;03m    Parameters\u001b[39;00m\n\u001b[0;32m   (...)\u001b[0m\n\u001b[1;32m    252\u001b[0m \u001b[38;5;124;03m    2. The results are filtered afterwards.\u001b[39;00m\n\u001b[1;32m    253\u001b[0m \u001b[38;5;124;03m    \"\"\"\u001b[39;00m\n\u001b[1;32m    254\u001b[0m     \u001b[38;5;28;01mreturn\u001b[39;00m \u001b[38;5;28;43mself\u001b[39;49m\u001b[38;5;241;43m.\u001b[39;49m\u001b[43mscanner\u001b[49m\u001b[43m(\u001b[49m\n\u001b[1;32m    255\u001b[0m \u001b[43m        \u001b[49m\u001b[43mcolumns\u001b[49m\u001b[38;5;241;43m=\u001b[39;49m\u001b[43mcolumns\u001b[49m\u001b[43m,\u001b[49m\n\u001b[1;32m    256\u001b[0m \u001b[43m        \u001b[49m\u001b[38;5;28;43mfilter\u001b[39;49m\u001b[38;5;241;43m=\u001b[39;49m\u001b[38;5;28;43mfilter\u001b[39;49m\u001b[43m,\u001b[49m\n\u001b[1;32m    257\u001b[0m \u001b[43m        \u001b[49m\u001b[43mlimit\u001b[49m\u001b[38;5;241;43m=\u001b[39;49m\u001b[43mlimit\u001b[49m\u001b[43m,\u001b[49m\n\u001b[1;32m    258\u001b[0m \u001b[43m        \u001b[49m\u001b[43moffset\u001b[49m\u001b[38;5;241;43m=\u001b[39;49m\u001b[43moffset\u001b[49m\u001b[43m,\u001b[49m\n\u001b[1;32m    259\u001b[0m \u001b[43m        \u001b[49m\u001b[43mnearest\u001b[49m\u001b[38;5;241;43m=\u001b[39;49m\u001b[43mnearest\u001b[49m\u001b[43m,\u001b[49m\n\u001b[1;32m    260\u001b[0m \u001b[43m        \u001b[49m\u001b[43mbatch_size\u001b[49m\u001b[38;5;241;43m=\u001b[39;49m\u001b[43mbatch_size\u001b[49m\u001b[43m,\u001b[49m\n\u001b[1;32m    261\u001b[0m \u001b[43m        \u001b[49m\u001b[43mbatch_readahead\u001b[49m\u001b[38;5;241;43m=\u001b[39;49m\u001b[43mbatch_readahead\u001b[49m\u001b[43m,\u001b[49m\n\u001b[1;32m    262\u001b[0m \u001b[43m        \u001b[49m\u001b[43mfragment_readahead\u001b[49m\u001b[38;5;241;43m=\u001b[39;49m\u001b[43mfragment_readahead\u001b[49m\u001b[43m,\u001b[49m\n\u001b[1;32m    263\u001b[0m \u001b[43m        \u001b[49m\u001b[43mscan_in_order\u001b[49m\u001b[38;5;241;43m=\u001b[39;49m\u001b[43mscan_in_order\u001b[49m\u001b[43m,\u001b[49m\n\u001b[0;32m--> 264\u001b[0m \u001b[43m    \u001b[49m\u001b[43m)\u001b[49m\u001b[38;5;241;43m.\u001b[39;49m\u001b[43mto_table\u001b[49m\u001b[43m(\u001b[49m\u001b[43m)\u001b[49m\n",
      "File \u001b[0;32m/Library/Frameworks/Python.framework/Versions/3.10/lib/python3.10/site-packages/lance/dataset.py:858\u001b[0m, in \u001b[0;36mLanceScanner.to_table\u001b[0;34m(self)\u001b[0m\n\u001b[1;32m    854\u001b[0m \u001b[38;5;28;01mdef\u001b[39;00m \u001b[38;5;21mto_table\u001b[39m(\u001b[38;5;28mself\u001b[39m) \u001b[38;5;241m-\u001b[39m\u001b[38;5;241m>\u001b[39m pa\u001b[38;5;241m.\u001b[39mTable:\n\u001b[1;32m    855\u001b[0m \u001b[38;5;250m    \u001b[39m\u001b[38;5;124;03m\"\"\"\u001b[39;00m\n\u001b[1;32m    856\u001b[0m \u001b[38;5;124;03m    Read the data into memory and return a pyarrow Table.\u001b[39;00m\n\u001b[1;32m    857\u001b[0m \u001b[38;5;124;03m    \"\"\"\u001b[39;00m\n\u001b[0;32m--> 858\u001b[0m     \u001b[38;5;28;01mreturn\u001b[39;00m \u001b[38;5;28;43mself\u001b[39;49m\u001b[38;5;241;43m.\u001b[39;49m\u001b[43mto_reader\u001b[49m\u001b[43m(\u001b[49m\u001b[43m)\u001b[49m\u001b[38;5;241m.\u001b[39mread_all()\n",
      "File \u001b[0;32m/Library/Frameworks/Python.framework/Versions/3.10/lib/python3.10/site-packages/lance/dataset.py:861\u001b[0m, in \u001b[0;36mLanceScanner.to_reader\u001b[0;34m(self)\u001b[0m\n\u001b[1;32m    860\u001b[0m \u001b[38;5;28;01mdef\u001b[39;00m \u001b[38;5;21mto_reader\u001b[39m(\u001b[38;5;28mself\u001b[39m) \u001b[38;5;241m-\u001b[39m\u001b[38;5;241m>\u001b[39m pa\u001b[38;5;241m.\u001b[39mRecordBatchReader:\n\u001b[0;32m--> 861\u001b[0m     \u001b[38;5;28;01mreturn\u001b[39;00m \u001b[38;5;28;43mself\u001b[39;49m\u001b[38;5;241;43m.\u001b[39;49m\u001b[43m_scanner\u001b[49m\u001b[38;5;241;43m.\u001b[39;49m\u001b[43mto_pyarrow\u001b[49m\u001b[43m(\u001b[49m\u001b[43m)\u001b[49m\n",
      "\u001b[0;31mValueError\u001b[0m: LanceError(IO): KNNFlatExec node: query column vector is not a vector"
     ]
    }
   ],
   "source": [
    "store.query_index(\"Hank Pym who is he\")"
   ]
  },
  {
   "cell_type": "code",
   "execution_count": null,
   "id": "2026e7d0",
   "metadata": {},
   "outputs": [],
   "source": [
    "#store(\"Who is hank pym of the avengers universe?\")"
   ]
  },
  {
   "cell_type": "code",
   "execution_count": null,
   "id": "5e038c64",
   "metadata": {},
   "outputs": [],
   "source": [
    "# ##reminder we can augment data from other stores\n",
    "# from monologue.entities.examples import NycTripEvent\n",
    "# from monologue.core.data.stores import ColumnarDataStore\n",
    "# cstore = ColumnarDataStore(NycTripEvent)\n",
    "# #cstore(\"List all the people who travelled to Carroll Gardens and their distance travelled\")\n",
    "# #query using polar - nice feature\n",
    "# cstore.query(\"SELECT passenger_count, passenger_name FROM NycTripEvent limit 5\")"
   ]
  },
  {
   "cell_type": "code",
   "execution_count": null,
   "id": "948f3f3e",
   "metadata": {},
   "outputs": [],
   "source": []
  },
  {
   "cell_type": "markdown",
   "id": "f11b8c8b",
   "metadata": {},
   "source": [
    "## Diving into Agent/Index types"
   ]
  },
  {
   "cell_type": "code",
   "execution_count": null,
   "id": "68c09935",
   "metadata": {},
   "outputs": [],
   "source": []
  }
 ],
 "metadata": {
  "jupytext": {
   "formats": "ipynb,auto:light"
  },
  "kernelspec": {
   "display_name": "Python 3 (ipykernel)",
   "language": "python",
   "name": "python3"
  },
  "language_info": {
   "codemirror_mode": {
    "name": "ipython",
    "version": 3
   },
   "file_extension": ".py",
   "mimetype": "text/x-python",
   "name": "python",
   "nbconvert_exporter": "python",
   "pygments_lexer": "ipython3",
   "version": "3.10.10"
  }
 },
 "nbformat": 4,
 "nbformat_minor": 5
}
