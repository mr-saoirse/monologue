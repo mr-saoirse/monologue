{
 "cells": [
  {
   "cell_type": "markdown",
   "id": "9633eb20",
   "metadata": {},
   "source": [
    "# Vector stores\n",
    "- the vector store uses a hance dataset to merge texual dat and embeddings (stored on s3)\n",
    "- The the store itself adds question answering and data loading interface"
   ]
  },
  {
   "cell_type": "code",
   "execution_count": null,
   "id": "72f29ac3",
   "metadata": {},
   "outputs": [],
   "source": [
    "import sys\n",
    "sys.path.append(\"../../\")"
   ]
  },
  {
   "cell_type": "code",
   "execution_count": null,
   "id": "9d3052ee",
   "metadata": {},
   "outputs": [],
   "source": [
    "from monologue.core.data.vectors import LanceDataSet"
   ]
  },
  {
   "cell_type": "code",
   "execution_count": null,
   "id": "9695a3e7",
   "metadata": {},
   "outputs": [],
   "source": [
    "ds = LanceDataSet('examples_AvengingPassengersInstruct')\n",
    "ds.load().head()"
   ]
  },
  {
   "cell_type": "code",
   "execution_count": null,
   "id": "5fe7073c",
   "metadata": {},
   "outputs": [],
   "source": [
    "from warnings import filterwarnings\n",
    "filterwarnings('ignore')\n",
    "from monologue.entities.examples import AvengingPassengersInstruct\n",
    "from monologue.core.data.stores import VectorDataStore\n",
    "store = VectorDataStore(AvengingPassengersInstruct)\n",
    "store"
   ]
  },
  {
   "cell_type": "code",
   "execution_count": null,
   "id": "6b3caabd",
   "metadata": {},
   "outputs": [],
   "source": [
    "df = store.load()\n",
    "df"
   ]
  },
  {
   "cell_type": "code",
   "execution_count": null,
   "id": "369f238d",
   "metadata": {},
   "outputs": [],
   "source": [
    "store.query_index(\"Hank Pym who is he\")"
   ]
  },
  {
   "cell_type": "code",
   "execution_count": null,
   "id": "2026e7d0",
   "metadata": {},
   "outputs": [],
   "source": [
    "#store(\"Who is hank pym of the avengers universe?\")"
   ]
  },
  {
   "cell_type": "code",
   "execution_count": null,
   "id": "5e038c64",
   "metadata": {},
   "outputs": [],
   "source": [
    "# ##reminder we can augment data from other stores\n",
    "# from monologue.entities.examples import NycTripEvent\n",
    "# from monologue.core.data.stores import ColumnarDataStore\n",
    "# cstore = ColumnarDataStore(NycTripEvent)\n",
    "# #cstore(\"List all the people who travelled to Carroll Gardens and their distance travelled\")\n",
    "# #query using polar - nice feature\n",
    "# cstore.query(\"SELECT passenger_count, passenger_name FROM NycTripEvent limit 5\")"
   ]
  },
  {
   "cell_type": "code",
   "execution_count": null,
   "id": "948f3f3e",
   "metadata": {},
   "outputs": [],
   "source": []
  },
  {
   "cell_type": "markdown",
   "id": "f11b8c8b",
   "metadata": {},
   "source": [
    "## Diving into Agent/Index types"
   ]
  },
  {
   "cell_type": "code",
   "execution_count": null,
   "id": "68c09935",
   "metadata": {},
   "outputs": [],
   "source": []
  }
 ],
 "metadata": {
  "jupytext": {
   "formats": "ipynb,auto:light"
  },
  "kernelspec": {
   "display_name": "Python 3 (ipykernel)",
   "language": "python",
   "name": "python3"
  },
  "language_info": {
   "codemirror_mode": {
    "name": "ipython",
    "version": 3
   },
   "file_extension": ".py",
   "mimetype": "text/x-python",
   "name": "python",
   "nbconvert_exporter": "python",
   "pygments_lexer": "ipython3",
   "version": "3.10.10"
  }
 },
 "nbformat": 4,
 "nbformat_minor": 5
}
