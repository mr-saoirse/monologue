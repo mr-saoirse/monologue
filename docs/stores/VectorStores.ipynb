{
 "cells": [
  {
   "cell_type": "markdown",
   "id": "9633eb20",
   "metadata": {},
   "source": [
    "# Vector stores\n",
    "- the vector store uses a hance dataset to merge texual dat and embeddings (stored on s3)\n",
    "- The the store itself adds question answering and data loading interface"
   ]
  },
  {
   "cell_type": "code",
   "execution_count": 1,
   "id": "72f29ac3",
   "metadata": {},
   "outputs": [],
   "source": [
    "import sys\n",
    "sys.path.append(\"../../\")"
   ]
  },
  {
   "cell_type": "code",
   "execution_count": 2,
   "id": "9d3052ee",
   "metadata": {},
   "outputs": [],
   "source": [
    "from monologue.core.data.vectors import LanceDataSet"
   ]
  },
  {
   "cell_type": "code",
   "execution_count": 3,
   "id": "9695a3e7",
   "metadata": {},
   "outputs": [
    {
     "data": {
      "text/html": [
       "<div><style>\n",
       ".dataframe > thead > tr > th,\n",
       ".dataframe > tbody > tr > td {\n",
       "  text-align: right;\n",
       "}\n",
       "</style>\n",
       "<small>shape: (5, 4)</small><table border=\"1\" class=\"dataframe\"><thead><tr><th>entity_type</th><th>id</th><th>text</th><th>vector</th></tr><tr><td>str</td><td>str</td><td>str</td><td>list[f32]</td></tr></thead><tbody><tr><td>&quot;people&quot;</td><td>&quot;Henry Jonathan…</td><td>&quot;\n",
       "\n",
       "Giant-Man\n",
       "\n",
       "\n",
       "…</td><td>[-0.058789, 0.007829, … 0.044307]</td></tr><tr><td>&quot;people&quot;</td><td>&quot;Henry Jonathan…</td><td>&quot;Doris Pym (mot…</td><td>[-0.05144, 0.005257, … 0.047564]</td></tr><tr><td>&quot;people&quot;</td><td>&quot;Henry Jonathan…</td><td>&quot;Irises:&quot;</td><td>[-0.016907, -0.028655, … 0.052312]</td></tr><tr><td>&quot;people&quot;</td><td>&quot;Henry Jonathan…</td><td>&quot;Dr. Henry &quot;Han…</td><td>[-0.044696, 0.005966, … 0.063029]</td></tr><tr><td>&quot;people&quot;</td><td>&quot;Henry Jonathan…</td><td>&quot;Hank was born …</td><td>[-0.06321, 0.009287, … 0.081358]</td></tr></tbody></table></div>"
      ],
      "text/plain": [
       "shape: (5, 4)\n",
       "┌─────────────┬───────────────────────┬─────────────────────────────────┬──────────────────────────┐\n",
       "│ entity_type ┆ id                    ┆ text                            ┆ vector                   │\n",
       "│ ---         ┆ ---                   ┆ ---                             ┆ ---                      │\n",
       "│ str         ┆ str                   ┆ str                             ┆ list[f32]                │\n",
       "╞═════════════╪═══════════════════════╪═════════════════════════════════╪══════════════════════════╡\n",
       "│ people      ┆ Henry Jonathan \"Hank\" ┆                                 ┆ [-0.058789, 0.007829, …  │\n",
       "│             ┆ Pym_0                 ┆                                 ┆ 0.044307…                │\n",
       "│             ┆                       ┆ Giant-Man                       ┆                          │\n",
       "│             ┆                       ┆                                 ┆                          │\n",
       "│             ┆                       ┆                                 ┆                          │\n",
       "│             ┆                       ┆                                 ┆                          │\n",
       "│             ┆                       ┆                                 ┆                          │\n",
       "│             ┆                       ┆                                 ┆                          │\n",
       "│             ┆                       ┆ Gallery                         ┆                          │\n",
       "│             ┆                       ┆                                 ┆                          │\n",
       "│             ┆                       ┆ Name                            ┆                          │\n",
       "│             ┆                       ┆ D…                              ┆                          │\n",
       "│ people      ┆ Henry Jonathan \"Hank\" ┆ Doris Pym (mother)Spouses:Maria ┆ [-0.05144, 0.005257, …   │\n",
       "│             ┆ Pym_1                 ┆ …                               ┆ 0.047564]                │\n",
       "│ people      ┆ Henry Jonathan \"Hank\" ┆ Irises:                         ┆ [-0.016907, -0.028655, … │\n",
       "│             ┆ Pym_2                 ┆                                 ┆ 0.05231…                 │\n",
       "│ people      ┆ Henry Jonathan \"Hank\" ┆ Dr. Henry \"Hank\" Pym, Ph.D,[20] ┆ [-0.044696, 0.005966, …  │\n",
       "│             ┆ Pym_3                 ┆ …                               ┆ 0.063029…                │\n",
       "│ people      ┆ Henry Jonathan \"Hank\" ┆ Hank was born and raised in     ┆ [-0.06321, 0.009287, …   │\n",
       "│             ┆ Pym_4                 ┆ East…                           ┆ 0.081358]                │\n",
       "└─────────────┴───────────────────────┴─────────────────────────────────┴──────────────────────────┘"
      ]
     },
     "execution_count": 3,
     "metadata": {},
     "output_type": "execute_result"
    }
   ],
   "source": [
    "ds = LanceDataSet('examples_AvengingPassengersInstruct')\n",
    "ds.load().head()"
   ]
  },
  {
   "cell_type": "code",
   "execution_count": 5,
   "id": "5fe7073c",
   "metadata": {},
   "outputs": [
    {
     "name": "stdout",
     "output_type": "stream",
     "text": [
      "load INSTRUCTOR_Transformer\n",
      "'NoneType' object has no attribute 'cadam32bit_grad_fp32'\n",
      "max_seq_length  512\n"
     ]
    },
    {
     "data": {
      "text/plain": [
       "<monologue.core.data.stores.VectorStore.VectorDataStore at 0x14ccb1fc0>"
      ]
     },
     "execution_count": 5,
     "metadata": {},
     "output_type": "execute_result"
    }
   ],
   "source": [
    "from warnings import filterwarnings\n",
    "filterwarnings('ignore')\n",
    "from monologue.entities.examples import AvengingPassengersInstruct\n",
    "from monologue.core.data.stores import VectorDataStore\n",
    "store = VectorDataStore(AvengingPassengersInstruct)\n",
    "store"
   ]
  },
  {
   "cell_type": "code",
   "execution_count": 6,
   "id": "f26ec612",
   "metadata": {},
   "outputs": [
    {
     "data": {
      "text/plain": [
       "'Dr. Henry \"Hank\" Pym is an American Entomologist, biochemist, roboticist, engineer, and physicist. He is considered one of the smartest humans on Earth. He discovered the Pym Particles, which can increase or decrease the size and mass of objects or living beings. He used this discovery to become the original Ant-Man, fighting alongside his future wife, Janet Van Dyne, who became the Wasp. He was a founding member of the Avengers and the creator of the deadly android, Ultron. He also had other identities such as Giant-Man, Goliath, Yellowjacket, and the Wasp. He was appointed Earth\\'s Scientist Supreme due to his skills in science.'"
      ]
     },
     "execution_count": 6,
     "metadata": {},
     "output_type": "execute_result"
    }
   ],
   "source": [
    "store(\"Who is hank pym?\")"
   ]
  },
  {
   "cell_type": "code",
   "execution_count": 10,
   "id": "5e038c64",
   "metadata": {},
   "outputs": [],
   "source": [
    "# ##reminder we can augment data from other stores\n",
    "# from monologue.entities.examples import NycTripEvent\n",
    "# from monologue.core.data.stores import ColumnarDataStore\n",
    "# cstore = ColumnarDataStore(NycTripEvent)\n",
    "# cstore(\"List all the people who travelled to Carroll Gardens and their distance travelled\")"
   ]
  },
  {
   "cell_type": "markdown",
   "id": "f11b8c8b",
   "metadata": {},
   "source": [
    "## Diving into Agent/Index types"
   ]
  },
  {
   "cell_type": "code",
   "execution_count": null,
   "id": "cbc10fe8",
   "metadata": {},
   "outputs": [],
   "source": []
  },
  {
   "cell_type": "code",
   "execution_count": null,
   "id": "2ba92341",
   "metadata": {},
   "outputs": [],
   "source": []
  }
 ],
 "metadata": {
  "kernelspec": {
   "display_name": "Python 3 (ipykernel)",
   "language": "python",
   "name": "python3"
  },
  "language_info": {
   "codemirror_mode": {
    "name": "ipython",
    "version": 3
   },
   "file_extension": ".py",
   "mimetype": "text/x-python",
   "name": "python",
   "nbconvert_exporter": "python",
   "pygments_lexer": "ipython3",
   "version": "3.10.10"
  }
 },
 "nbformat": 4,
 "nbformat_minor": 5
}
