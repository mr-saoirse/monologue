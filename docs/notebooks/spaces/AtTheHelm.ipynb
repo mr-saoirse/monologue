{
 "cells": [
  {
   "cell_type": "code",
   "execution_count": null,
   "id": "617af6e3",
   "metadata": {},
   "outputs": [],
   "source": [
    "import sys\n",
    "sys.path.append(\"../../\")"
   ]
  },
  {
   "cell_type": "code",
   "execution_count": null,
   "id": "e6ccf05a",
   "metadata": {},
   "outputs": [],
   "source": [
    "#we we will use a basic agent to develop pur auditing of tool usage\n",
    "from monologue.core.agents.basic import BasicToolUsingAgent"
   ]
  },
  {
   "cell_type": "code",
   "execution_count": null,
   "id": "95657dc5",
   "metadata": {},
   "outputs": [],
   "source": [
    "#the index manager is how we search tools (which are spaces disguised as tools)\n",
    "from monologue.core.spaces import IndexManager\n",
    "MY_CONTEXT = \"\"\"\"\"\"\n",
    "tools = IndexManager.suggest_initial_tools(MY_CONTEXT)"
   ]
  },
  {
   "cell_type": "code",
   "execution_count": null,
   "id": "0f61d2c2",
   "metadata": {},
   "outputs": [],
   "source": [
    "agent = BasicToolUsingAgent(tools=tools)\n",
    "agent"
   ]
  },
  {
   "cell_type": "code",
   "execution_count": null,
   "id": "ed074e9d",
   "metadata": {},
   "outputs": [],
   "source": [
    "audit = agent(\"Question\")"
   ]
  }
 ],
 "metadata": {
  "kernelspec": {
   "display_name": "Python 3 (ipykernel)",
   "language": "python",
   "name": "python3"
  },
  "language_info": {
   "codemirror_mode": {
    "name": "ipython",
    "version": 3
   },
   "file_extension": ".py",
   "mimetype": "text/x-python",
   "name": "python",
   "nbconvert_exporter": "python",
   "pygments_lexer": "ipython3",
   "version": "3.10.10"
  }
 },
 "nbformat": 4,
 "nbformat_minor": 5
}
