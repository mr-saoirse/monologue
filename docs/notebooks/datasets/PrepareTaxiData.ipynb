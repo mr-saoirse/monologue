{
 "cells": [
  {
   "cell_type": "code",
   "execution_count": null,
   "id": "52230b85",
   "metadata": {},
   "outputs": [],
   "source": [
    "import pandas as pd\n",
    "\n",
    "#download any month of data for yellow cabs https://www.nyc.gov/site/tlc/about/tlc-trip-record-data.page\n",
    "data = pd.read_parquet(\"/Users/sirsh/Downloads/yellow_tripdata_2023-01.parquet\")\n",
    "#get the zone lookup from some site \n",
    "zones = pd.read_csv(\"/Users/sirsh/Downloads/taxi+_zone_lookup.csv\")\n",
    "data.head()"
   ]
  },
  {
   "cell_type": "code",
   "execution_count": null,
   "id": "81e7d03b",
   "metadata": {},
   "outputs": [],
   "source": [
    "zones.head()"
   ]
  },
  {
   "cell_type": "code",
   "execution_count": null,
   "id": "a606ef26",
   "metadata": {},
   "outputs": [],
   "source": [
    "columns = {\n",
    "    \"tpep_pickup_datetime\": 'pick_up_at',\n",
    "    \"tpep_dropoff_datetime\": 'drop_off_at',\n",
    "    \"passenger_count\": \"passenger_count\",\n",
    "    \"trip_distance\": \"trip_distance\",\n",
    "    \"payment_type\": \"payment_type\",\n",
    "    \"congestion_surcharge\": \"congestion_surcharge\",\n",
    "    \"airport_fee\": \"airport_fee\",\n",
    "    \"Borough\": \"borough_pick_up\",\n",
    "    \"Zone\": \"zone_pick_up\",\n",
    "    \"Borough_drop_off\": \"borough_drop_off\",\n",
    "    \"Zone_drop_off\": \"zone_drop_off\"\n",
    "}\n",
    "\n",
    "def payment_types (i):\n",
    "    \"\"\"\n",
    "    from the data dict for sourced data on site\n",
    "    \"\"\"\n",
    "    return ['Credit card', 'Cash', 'No charge', 'Dispute', 'Unknown'][i-1]\n",
    "\n",
    "data = pd.merge(data,zones, left_on='PULocationID', right_on='LocationID', suffixes=['', '_pick_up'])\n",
    "data = pd.merge(data,zones, left_on='DOLocationID', right_on='LocationID', suffixes=['', '_drop_off'])\n",
    "data['payment_type'] = data['payment_type'].map(payment_types)\n",
    "data = data.rename(columns=columns)\n",
    "data = data.drop(columns=[c for c in data.columns if c not in columns.values()],index=1).reset_index()\n",
    "sample = data[::100].reset_index(drop=True)\n",
    "sample['pick_up_at'] = pd.to_datetime(sample['pick_up_at'])\n",
    "sample['drop_off_at'] = pd.to_datetime(sample['drop_off_at'])\n",
    "sample.head()"
   ]
  },
  {
   "cell_type": "code",
   "execution_count": null,
   "id": "642d88d8",
   "metadata": {},
   "outputs": [],
   "source": [
    "# from tqdm import tqdm\n",
    "# import time\n",
    "# from langchain.utilities import WikipediaAPIWrapper\n",
    "# wikipedia = WikipediaAPIWrapper()\n",
    "# trivia = []\n",
    " \n",
    "\n",
    "# for zone in tqdm(sample['zone_pick_up'].unique()):\n",
    "#     try:\n",
    "#         trivia.append(   {\"entity_type\" : 'nyc_zone', \"entity_key\": zone, 'text' : wikipedia.run(zone)})\n",
    "#         time.sleep(2)\n",
    "#     except:\n",
    "#         pass\n",
    "        \n",
    "# trivia = pd.DataFrame(trivia).reset_index()\n",
    "# trivia['id'] = trivia['index']\n",
    "# trivia.to_csv(\"/Users/sirsh/Downloads/nyc_zones.csv\", index=None)\n",
    "# trivia  \n"
   ]
  },
  {
   "cell_type": "code",
   "execution_count": null,
   "id": "e418fce9",
   "metadata": {},
   "outputs": [],
   "source": [
    "import pandas as pd\n",
    "passengers = pd.read_csv(\"/Users/sirsh/Downloads/avengers.csv\", encoding='latin-1')\n",
    "passengers = passengers[['URL', 'Name/Alias', 'Appearances', 'Gender']].rename(columns={'Name/Alias':'Name', 'URL' : 'uri'})\n",
    "passengers.columns = [c.lower() for c in passengers.columns]\n",
    "passengers"
   ]
  },
  {
   "cell_type": "code",
   "execution_count": null,
   "id": "39513ab3",
   "metadata": {},
   "outputs": [],
   "source": []
  },
  {
   "cell_type": "code",
   "execution_count": null,
   "id": "9d166b0a",
   "metadata": {},
   "outputs": [],
   "source": [
    "import requests\n",
    "from bs4 import BeautifulSoup\n",
    "from tqdm import tqdm\n",
    "def scrape_html_paragraphs(uri):\n",
    "    \"\"\"\n",
    "    util - we dont care about errors - this is a try or ignore for test data\n",
    "    \"\"\"\n",
    "    try:\n",
    "        response = requests.get(uri)\n",
    "        if response.status_code == 200:\n",
    "            soup = BeautifulSoup(response.text, 'html.parser')\n",
    "            title = soup.title.string\n",
    "            paragraphs = soup.find_all('p')\n",
    "            for i, p in enumerate(paragraphs):\n",
    "                yield i, p.get_text()\n",
    "        else:\n",
    "            return None\n",
    "    except Exception as e:\n",
    "        return None\n",
    "\n",
    "bios = []\n",
    "for record in tqdm(passengers.to_dict('records')):  \n",
    "    for i, text in scrape_html_paragraphs(record['uri']):\n",
    "        bios.append(   {\"entity_type\" : 'people', \"entity_key\": f\"{record['name']}_{i}\", 'text' : text})\n",
    "\n",
    "bios = pd.DataFrame(bios)\n",
    "bios.to_csv(\"/Users/sirsh/Downloads/marvel_bios.csv\", index=None)\n",
    "bios"
   ]
  },
  {
   "cell_type": "code",
   "execution_count": null,
   "id": "ac4cfac5",
   "metadata": {},
   "outputs": [],
   "source": [
    "bios.iloc[10]['text'] "
   ]
  },
  {
   "cell_type": "code",
   "execution_count": null,
   "id": "bb8906cc",
   "metadata": {},
   "outputs": [],
   "source": [
    "import numpy as np\n",
    "sample['passenger_name'] = np.random.choice(passengers['name'], len(sample))\n",
    "sample"
   ]
  },
  {
   "cell_type": "code",
   "execution_count": null,
   "id": "bc3ffa7e",
   "metadata": {},
   "outputs": [],
   "source": []
  },
  {
   "cell_type": "code",
   "execution_count": null,
   "id": "19ff0b38",
   "metadata": {},
   "outputs": [],
   "source": []
  }
 ],
 "metadata": {
  "jupytext": {
   "formats": "ipynb,py:light"
  },
  "kernelspec": {
   "display_name": "Python 3 (ipykernel)",
   "language": "python",
   "name": "python3"
  },
  "language_info": {
   "codemirror_mode": {
    "name": "ipython",
    "version": 3
   },
   "file_extension": ".py",
   "mimetype": "text/x-python",
   "name": "python",
   "nbconvert_exporter": "python",
   "pygments_lexer": "ipython3",
   "version": "3.10.10"
  }
 },
 "nbformat": 4,
 "nbformat_minor": 5
}
