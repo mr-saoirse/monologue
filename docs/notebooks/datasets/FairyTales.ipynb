{
 "cells": [
  {
   "cell_type": "markdown",
   "id": "cb575861",
   "metadata": {},
   "source": [
    "## Scrape a website and create a fairly tale type using the instruct embedding"
   ]
  },
  {
   "cell_type": "code",
   "execution_count": null,
   "id": "3ffa88ec",
   "metadata": {},
   "outputs": [],
   "source": [
    "import sys\n",
    "import pandas as pd\n",
    "\n",
    "sys.path.append(\"../../../\")"
   ]
  },
  {
   "cell_type": "code",
   "execution_count": null,
   "id": "4144c472",
   "metadata": {},
   "outputs": [],
   "source": [
    "import pandas as pd\n",
    "import requests\n",
    "from bs4 import BeautifulSoup\n",
    "from monologue.entities.examples import   AbstractVectorStoreEntry , INSTRUCT_EMBEDDING_VECTOR_LENGTH, Field, Optional, List, AbstractEntity\n",
    "from monologue.core.data.stores import ColumnarDataStore, VectorDataStore\n",
    "\n",
    "\"\"\"\n",
    "define a type\n",
    "\"\"\"\n",
    "class FairyTales(AbstractVectorStoreEntry):\n",
    "    class Config:\n",
    "        embeddings_provider = \"instruct\"\n",
    "\n",
    "    vector: Optional[List[float]] = Field(\n",
    "        fixed_size_length=INSTRUCT_EMBEDDING_VECTOR_LENGTH\n",
    "    )\n",
    "        \n",
    "        \n",
    "\"\"\"\n",
    "scrape some data into the type\n",
    "\"\"\"\n",
    "URL = \"https://www.gutenberg.org/files/20748/20748-h/20748-h.htm\"\n",
    "page = requests.get(URL)\n",
    "soup = BeautifulSoup(page.content, \"html.parser\")\n",
    "elements = soup.find_all(lambda tag: tag.name in ['h2', 'p'])\n",
    "\n",
    "records = []\n",
    "current = None\n",
    "store_index = 0\n",
    "part_index = 0\n",
    "for element in elements:\n",
    "    #track header and decide what to do \n",
    "    if element.name == 'h2':\n",
    "        if ']' in element.text:\n",
    "            name = element.text.split(']')[-1]\n",
    "            current = name\n",
    "            store_index += 1\n",
    "            part_index = 0\n",
    "    elif current and element.text:\n",
    "        part_index += 1\n",
    "        key = name.replace(' ','-') + '-' + str(part_index)\n",
    "        if len(element.text) > 50:\n",
    "            ft = FairyTales(name=key, text=element.text)\n",
    "            records.append(ft)\n",
    "    #build an entry for generic database insert\n"
   ]
  },
  {
   "cell_type": "code",
   "execution_count": null,
   "id": "5ebc35b1",
   "metadata": {},
   "outputs": [],
   "source": [
    "\"\"\"\n",
    "create the store and populate it\n",
    "\"\"\"\n",
    "vstore = VectorDataStore(FairyTales)\n",
    "#ds = vstore.add(records)"
   ]
  },
  {
   "cell_type": "code",
   "execution_count": null,
   "id": "71e9646d",
   "metadata": {},
   "outputs": [],
   "source": [
    "df = vstore.run_search(\"Why did beauty suspect the beast did not want to harm her and why did the beast not want to let Beauty go vist her father?\", probes=50)[['id', 'text', '_distance']]\n",
    "df#.iloc[-1]['text']"
   ]
  },
  {
   "cell_type": "code",
   "execution_count": null,
   "id": "3e6fad1e",
   "metadata": {},
   "outputs": [],
   "source": [
    "from monologue.core.agents.utils import summarize_data\n",
    "\n",
    "summarize_data(df.to_dict('records'))"
   ]
  },
  {
   "cell_type": "code",
   "execution_count": null,
   "id": "3702a7bc",
   "metadata": {},
   "outputs": [],
   "source": [
    "#store(\"Who is aladdin and who is aladdins closest friend?\")\n",
    "#store(\"Where did alladins mother live?\")\n",
    "#store(\"What did the matchstick girl's grandmother tell her?\")\n",
    "#store(\"Where was the matchstick girl after she kindle a third match?\")\n",
    "store(\"Why did beauty suspect the beast did not want to harm her and why did the beast not want to let Beauty go vist her father?\")\n"
   ]
  },
  {
   "cell_type": "code",
   "execution_count": null,
   "id": "c0b81dec",
   "metadata": {},
   "outputs": [],
   "source": [
    "#!pip install tantivy"
   ]
  },
  {
   "cell_type": "markdown",
   "id": "5e2d4d2a",
   "metadata": {},
   "source": [
    "# ask ChatGTP to create a dataset for some characters in the stories\n",
    "(not shown - dataset provided in datasets)"
   ]
  },
  {
   "cell_type": "code",
   "execution_count": null,
   "id": "7d0f84c7",
   "metadata": {},
   "outputs": [],
   "source": [
    "data = pd.read_feather('/Users/sirsh/Downloads/fairly_tail_characters.feather')\n",
    "def as_list(x):\n",
    "    try:\n",
    "        return list(x)\n",
    "    except:\n",
    "        return None\n",
    "data['closest_friends'] = data['closest_friends'].map(as_list)\n",
    "data.to_feather('/Users/sirsh/Downloads/fairly_tail_characters.feather')\n",
    "sample = data.to_dict('records')[0]\n",
    "sample"
   ]
  },
  {
   "cell_type": "code",
   "execution_count": null,
   "id": "1020b1b4",
   "metadata": {},
   "outputs": [],
   "source": [
    "#use GPT to create a pydantic type for this\n",
    "# from monologue.core.agents.utils import pydantic_type_generator\n",
    "# pydantic_type_generator(sample, file_out='/Users/sirsh/Downloads/sample.fairy.py')"
   ]
  },
  {
   "cell_type": "markdown",
   "id": "6ecff85e",
   "metadata": {},
   "source": [
    "## Make a type and used the sample data and add it to the columnar store"
   ]
  },
  {
   "cell_type": "code",
   "execution_count": null,
   "id": "9ff14342",
   "metadata": {},
   "outputs": [],
   "source": [
    "from typing import List\n",
    "from pydantic import BaseModel\n",
    "\n",
    "class FairyTaleCharacter(AbstractEntity):\n",
    "    #add the key field\n",
    "    character_name: str = Field(is_key=True)\n",
    "    stature: str\n",
    "    hair_color: str\n",
    "    skin_color: str\n",
    "    eye_color: str\n",
    "    clothing_description: str\n",
    "    closest_friends: List[str]\n",
    "    arch_enemy: str\n",
    "    times_left_home_or_country: float\n",
    "    times_been_inside_castle: float\n",
    "    story_appeared_in: str\n",
    "    how_many_friends_they_have: float\n",
    "    how_many_enemies_they_have: float\n",
    "    how_many_animals_they_know: float\n"
   ]
  },
  {
   "cell_type": "code",
   "execution_count": null,
   "id": "f1ec4702",
   "metadata": {},
   "outputs": [],
   "source": [
    " \n",
    "# ft_chars = [FairyTaleCharacter(**sample) for sample in  data.to_dict('records')]\n",
    "# ColumnarDataStore(FairyTaleCharacter).add(ft_chars)"
   ]
  },
  {
   "cell_type": "code",
   "execution_count": null,
   "id": "f9de4f82",
   "metadata": {},
   "outputs": [],
   "source": [
    "cstore = ColumnarDataStore(FairyTaleCharacter)"
   ]
  },
  {
   "cell_type": "code",
   "execution_count": null,
   "id": "e65564f7",
   "metadata": {},
   "outputs": [],
   "source": [
    "#store.load()"
   ]
  },
  {
   "cell_type": "code",
   "execution_count": null,
   "id": "e756c53d",
   "metadata": {},
   "outputs": [],
   "source": [
    "cstore(\"Who has spent the most time in a castle\")"
   ]
  },
  {
   "cell_type": "code",
   "execution_count": null,
   "id": "52b4f749",
   "metadata": {},
   "outputs": [],
   "source": [
    "cstore(\"Who has left home most often\")"
   ]
  },
  {
   "cell_type": "code",
   "execution_count": null,
   "id": "73b8a317",
   "metadata": {},
   "outputs": [],
   "source": [
    "cstore(\"Who is the most social character\")"
   ]
  },
  {
   "cell_type": "code",
   "execution_count": null,
   "id": "14e446b0",
   "metadata": {},
   "outputs": [],
   "source": [
    "cstore(\"Who are snow whites closest friends?\")"
   ]
  },
  {
   "cell_type": "code",
   "execution_count": null,
   "id": "d66dea4f",
   "metadata": {},
   "outputs": [],
   "source": [
    "cstore(\"Who has the most interesting dress sense?\")"
   ]
  },
  {
   "cell_type": "code",
   "execution_count": null,
   "id": "814495b0",
   "metadata": {},
   "outputs": [],
   "source": [
    "cstore(\"Name the story with the most characters that you know and list the characters?\")"
   ]
  },
  {
   "cell_type": "markdown",
   "id": "bb2a9b55",
   "metadata": {},
   "source": [
    "# How this works with open ai functions"
   ]
  },
  {
   "cell_type": "code",
   "execution_count": null,
   "id": "e718eb68",
   "metadata": {},
   "outputs": [],
   "source": [
    "from monologue.core.agents.basic import call_open_ai_with_functions as the_program\n"
   ]
  },
  {
   "cell_type": "code",
   "execution_count": null,
   "id": "25913157",
   "metadata": {},
   "outputs": [],
   "source": [
    "functions = [cstore.as_function, vstore.as_function]"
   ]
  },
  {
   "cell_type": "code",
   "execution_count": null,
   "id": "7e684959",
   "metadata": {},
   "outputs": [],
   "source": [
    "the_program(functions, \"which character has the most friends and where did they eventually settle down\")"
   ]
  },
  {
   "cell_type": "code",
   "execution_count": null,
   "id": "ac1b6e1d",
   "metadata": {},
   "outputs": [],
   "source": []
  }
 ],
 "metadata": {
  "kernelspec": {
   "display_name": "Python 3 (ipykernel)",
   "language": "python",
   "name": "python3"
  },
  "language_info": {
   "codemirror_mode": {
    "name": "ipython",
    "version": 3
   },
   "file_extension": ".py",
   "mimetype": "text/x-python",
   "name": "python",
   "nbconvert_exporter": "python",
   "pygments_lexer": "ipython3",
   "version": "3.10.10"
  }
 },
 "nbformat": 4,
 "nbformat_minor": 5
}
