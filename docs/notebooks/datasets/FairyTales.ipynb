{
 "cells": [
  {
   "cell_type": "markdown",
   "id": "643e2bc3",
   "metadata": {},
   "source": [
    "## Scrape a website and craete a fairly tale type using the instruct embedding"
   ]
  },
  {
   "cell_type": "code",
   "execution_count": null,
   "id": "8eb97b27",
   "metadata": {},
   "outputs": [],
   "source": [
    "import sys\n",
    "import pandas as pd\n",
    "\n",
    "sys.path.append(\"../../../\")"
   ]
  },
  {
   "cell_type": "code",
   "execution_count": null,
   "id": "45bc71bb",
   "metadata": {},
   "outputs": [],
   "source": [
    "import pandas as pd\n",
    "import requests\n",
    "from bs4 import BeautifulSoup\n",
    "from monologue.entities.examples import   AbstractVectorStoreEntry , INSTRUCT_EMBEDDING_VECTOR_LENGTH, Field, Optional, List, AbstractEntity\n",
    "from monologue.core.data.stores import ColumnarDataStore, VectorDataStore\n",
    "\n",
    "\"\"\"\n",
    "define a type\n",
    "\"\"\"\n",
    "class FairyTales(AbstractVectorStoreEntry):\n",
    "    class Config:\n",
    "        embeddings_provider = \"instruct\"\n",
    "\n",
    "    vector: Optional[List[float]] = Field(\n",
    "        fixed_size_length=INSTRUCT_EMBEDDING_VECTOR_LENGTH\n",
    "    )\n",
    "        \n",
    "        \n",
    "\"\"\"\n",
    "scrape some data into the type\n",
    "\"\"\"\n",
    "URL = \"https://www.gutenberg.org/files/20748/20748-h/20748-h.htm\"\n",
    "page = requests.get(URL)\n",
    "soup = BeautifulSoup(page.content, \"html.parser\")\n",
    "elements = soup.find_all(lambda tag: tag.name in ['h2', 'p'])\n",
    "\n",
    "records = []\n",
    "current = None\n",
    "store_index = 0\n",
    "part_index = 0\n",
    "for element in elements:\n",
    "    #track header and decide what to do \n",
    "    if element.name == 'h2':\n",
    "        if ']' in element.text:\n",
    "            name = element.text.split(']')[-1]\n",
    "            current = name\n",
    "            store_index += 1\n",
    "            part_index = 0\n",
    "    elif current and element.text:\n",
    "        part_index += 1\n",
    "        key = name.replace(' ','-') + '-' + str(part_index)\n",
    "        if len(element.text) > 50:\n",
    "            ft = FairyTales(name=key, text=element.text)\n",
    "            records.append(ft)\n",
    "    #build an entry for generic database insert\n"
   ]
  },
  {
   "cell_type": "code",
   "execution_count": null,
   "id": "7ec59253",
   "metadata": {},
   "outputs": [],
   "source": [
    "\"\"\"\n",
    "create the store and populate it\n",
    "\"\"\"\n",
    "store = VectorDataStore(FairyTales)\n",
    "ds = store.add(records)"
   ]
  },
  {
   "cell_type": "code",
   "execution_count": null,
   "id": "d5db4fa5",
   "metadata": {},
   "outputs": [],
   "source": [
    "store(\"who are the seven dwarves?\")"
   ]
  },
  {
   "cell_type": "code",
   "execution_count": null,
   "id": "e1afd007",
   "metadata": {},
   "outputs": [],
   "source": [
    "#ask GTP to create a dataset for some characters\n",
    "data = pd.read_feather('/Users/sirsh/Downloads/fairly_tail_characters.feather')\n",
    "sample = data.to_dict('records')[0]\n",
    "sample['closest_friends'] = list(sample['closest_friends'])\n",
    "sample"
   ]
  },
  {
   "cell_type": "code",
   "execution_count": null,
   "id": "5901e5ee",
   "metadata": {},
   "outputs": [],
   "source": [
    "#use GPT to create a pydantic type for this\n",
    "from monologue.core.agents.utils import pydantic_type_generator\n",
    "\n",
    "pydantic_type_generator(sample, file_out='/Users/sirsh/Downloads/sample.fairy.py')"
   ]
  },
  {
   "cell_type": "markdown",
   "id": "0d91f9bc",
   "metadata": {},
   "source": [
    "## Make a type and used the sample data and add it to the columnar store"
   ]
  },
  {
   "cell_type": "code",
   "execution_count": null,
   "id": "0994910c",
   "metadata": {},
   "outputs": [],
   "source": [
    "from typing import List\n",
    "from pydantic import BaseModel\n",
    "\n",
    "class FairyTaleCharacter(AbstractEntity):\n",
    "    #add the key\n",
    "    character_name: str = Field(is_key=True)\n",
    "    stature: str\n",
    "    hair_color: str\n",
    "    skin_color: str\n",
    "    eye_color: str\n",
    "    clothing_description: str\n",
    "    closest_friends: List[str]\n",
    "    arch_enemy: str\n",
    "    times_left_home_or_country: float\n",
    "    times_been_inside_castle: float\n",
    "    story_appeared_in: str\n",
    "    how_many_friends_they_have: float\n",
    "    how_many_enemies_they_have: float\n",
    "    how_many_animals_they_know: float\n"
   ]
  },
  {
   "cell_type": "code",
   "execution_count": null,
   "id": "9f7c398f",
   "metadata": {},
   "outputs": [],
   "source": [
    "def fix_list(d):\n",
    "    d['closest_friends'] = list(d['closest_friends'])\n",
    "    return d\n",
    "ft_chars = [FairyTaleCharacter(**fix_list(sample)) for sample in  data.to_dict('records')]"
   ]
  },
  {
   "cell_type": "code",
   "execution_count": null,
   "id": "3956bfeb",
   "metadata": {},
   "outputs": [],
   "source": [
    "ColumnarDataStore(FairyTaleCharacter).add(ft_chars)"
   ]
  },
  {
   "cell_type": "code",
   "execution_count": null,
   "id": "3929fdf7",
   "metadata": {},
   "outputs": [],
   "source": [
    "store = ColumnarDataStore(FairyTaleCharacter)\n",
    "#"
   ]
  },
  {
   "cell_type": "code",
   "execution_count": null,
   "id": "ab054188",
   "metadata": {},
   "outputs": [],
   "source": [
    "store.load()"
   ]
  },
  {
   "cell_type": "code",
   "execution_count": null,
   "id": "64f7cf10",
   "metadata": {},
   "outputs": [],
   "source": [
    "store(\"Who has spent the most time in a castle\")"
   ]
  },
  {
   "cell_type": "code",
   "execution_count": null,
   "id": "44cfae77",
   "metadata": {},
   "outputs": [],
   "source": [
    "store(\"Who has left home most often\")"
   ]
  },
  {
   "cell_type": "code",
   "execution_count": null,
   "id": "f891bf0f",
   "metadata": {},
   "outputs": [],
   "source": [
    "store(\"Who is the most social character\")"
   ]
  },
  {
   "cell_type": "code",
   "execution_count": null,
   "id": "8d84e605",
   "metadata": {},
   "outputs": [],
   "source": [
    "store(\"Who are snow whites closest friends?\")"
   ]
  },
  {
   "cell_type": "code",
   "execution_count": null,
   "id": "4629fbfe",
   "metadata": {},
   "outputs": [],
   "source": [
    "store(\"Who has the most interesting dress sense?\")"
   ]
  },
  {
   "cell_type": "code",
   "execution_count": null,
   "id": "acf8dfaf",
   "metadata": {},
   "outputs": [],
   "source": [
    "store(\"Name the story with the most characters that you know and list the characters?\")"
   ]
  },
  {
   "cell_type": "code",
   "execution_count": null,
   "id": "f0f65eb6",
   "metadata": {},
   "outputs": [],
   "source": []
  }
 ],
 "metadata": {
  "kernelspec": {
   "display_name": "Python 3 (ipykernel)",
   "language": "python",
   "name": "python3"
  },
  "language_info": {
   "codemirror_mode": {
    "name": "ipython",
    "version": 3
   },
   "file_extension": ".py",
   "mimetype": "text/x-python",
   "name": "python",
   "nbconvert_exporter": "python",
   "pygments_lexer": "ipython3",
   "version": "3.10.10"
  }
 },
 "nbformat": 4,
 "nbformat_minor": 5
}
