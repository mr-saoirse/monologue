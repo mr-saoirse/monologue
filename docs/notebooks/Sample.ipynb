{
 "cells": [
  {
   "cell_type": "code",
   "execution_count": null,
   "id": "79722a4e",
   "metadata": {},
   "outputs": [],
   "source": [
    "import sys\n",
    "import pandas as pd\n",
    "\n",
    "sys.path.append(\"../../\")\n"
   ]
  },
  {
   "cell_type": "code",
   "execution_count": null,
   "id": "1f7e2237",
   "metadata": {},
   "outputs": [],
   "source": [
    "from monologue.core.agents import BasicToolUsingAgent,QuestionGeneratingAgent, BasicTypedResponseToolUsingAgent\n",
    "from monologue.core.data.stores import VectorDataStore, ColumnarDataStore, EntityDataStore\n",
    "from monologue.entities.examples import AvengingPassengersInstruct, NycTripEvent, Places, AbstractVectorStoreEntry, BookReviewers\n",
    "from monologue.entities.examples import AbstractEntity\n",
    "from monologue.core.data.stores import tools_for_entity\n",
    "AbstractEntity.get_type('examples', 'Places')"
   ]
  },
  {
   "cell_type": "code",
   "execution_count": null,
   "id": "384ad6bf",
   "metadata": {},
   "outputs": [],
   "source": [
    "#these data were ingested from the logs\n",
    "store = ColumnarDataStore(BookReviewers)\n",
    "store(\"Who gave the Hobbit the highest review? Please tell me everything you know about that person\")"
   ]
  },
  {
   "cell_type": "markdown",
   "id": "3f5e7b5d",
   "metadata": {},
   "source": [
    "#### You can create dynamic types \n",
    "- this is useful because we have assumed everything is driven by types but we might not always have one"
   ]
  },
  {
   "cell_type": "code",
   "execution_count": null,
   "id": "16b5aaa3",
   "metadata": {},
   "outputs": [],
   "source": [
    "tools = [VectorDataStore(AvengingPassengersInstruct, extra_context=\"This stores inforamtion about people travelling in New York taxis\").as_tool(),\n",
    "         VectorDataStore(Places, extra_context=\"This stores inforamtion about places in New York\").as_tool(),\n",
    "         ColumnarDataStore(NycTripEvent).as_tool()\n",
    "        ]\n",
    "\n",
    "agent = BasicToolUsingAgent(tools=tools, context=\"Answer questions about people taking trips in new york\")\n",
    "agent(\"Please provide a summary of the person who went to Carroll Gardens most often with as much detail as possible. what might they have gont to Carroll gardens?\")\n"
   ]
  },
  {
   "cell_type": "code",
   "execution_count": null,
   "id": "f6f270c7",
   "metadata": {
    "lines_to_next_cell": 2
   },
   "outputs": [],
   "source": [
    "import monologue\n",
    "#we use this to get fenced stuff out\n",
    "from monologue.core.utils.ops import parse_fenced_code_blocks\n",
    "#saves typing, fairly basic- generate pydantic types from example data\n",
    "from monologue.core.utils.ops import pydantic_type_generator\n",
    "#the entities we will create extend this which does the repr and pulls out some metadata\n",
    "from monologue.entities import AbstractEntity"
   ]
  },
  {
   "cell_type": "markdown",
   "id": "642484a6",
   "metadata": {},
   "source": [
    "## Illustrate the type representation in logs"
   ]
  },
  {
   "cell_type": "code",
   "execution_count": null,
   "id": "1dec2abf",
   "metadata": {},
   "outputs": [],
   "source": [
    "from pydantic import Field\n",
    "class MyEntity(AbstractEntity):\n",
    "    code: str = Field(is_key=True)\n",
    "    created_at: str\n",
    "\n",
    "my_entity = MyEntity(code='test', created_at= \"2023-01-01\")\n",
    "my_entity"
   ]
  },
  {
   "cell_type": "markdown",
   "id": "db5cf519",
   "metadata": {},
   "source": [
    "## Show how the Columnar Store works"
   ]
  },
  {
   "cell_type": "code",
   "execution_count": null,
   "id": "75daa889",
   "metadata": {},
   "outputs": [],
   "source": [
    "from monologue.core.data.stores import ColumnarDataStore\n",
    "from monologue.entities.examples import NycTripEvent\n",
    "store = ColumnarDataStore(NycTripEvent)\n",
    "store"
   ]
  },
  {
   "cell_type": "markdown",
   "id": "0cd7dd28",
   "metadata": {},
   "source": [
    "### load the tool and ask questions"
   ]
  },
  {
   "cell_type": "code",
   "execution_count": null,
   "id": "83add276",
   "metadata": {},
   "outputs": [],
   "source": [
    "tool = store.as_tool()\n",
    "tool"
   ]
  },
  {
   "cell_type": "code",
   "execution_count": null,
   "id": "adce6c6b",
   "metadata": {},
   "outputs": [],
   "source": [
    "tool.run(\"What is least popular destination in new york city? Who has travelled there?\")\n",
    "#or just store(\"ask question\")"
   ]
  },
  {
   "cell_type": "markdown",
   "id": "e9e3edfc",
   "metadata": {},
   "source": [
    "# Vector Store Loading"
   ]
  },
  {
   "cell_type": "markdown",
   "id": "63e17d8e",
   "metadata": {},
   "source": [
    "### bios"
   ]
  },
  {
   "cell_type": "code",
   "execution_count": null,
   "id": "3fd4b6b3",
   "metadata": {},
   "outputs": [],
   "source": [
    "import pandas as pd\n",
    "from monologue.core.data.stores import VectorDataStore\n",
    "from monologue.entities.examples import *\n",
    "from monologue import logger"
   ]
  },
  {
   "cell_type": "code",
   "execution_count": null,
   "id": "a96f77e0",
   "metadata": {},
   "outputs": [],
   "source": [
    "data = pd.read_csv(\"/Users/sirsh/Downloads/marvel_bios.csv\").rename(columns={'entity_key':'id'})\n",
    "data['id'] = data['id'].map(lambda x: x.replace('\"',''))\n",
    "data['name'] = data['id'].map(lambda x: x.split('_')[0])\n",
    "\n",
    "data['doc_id'] = data['name']\n",
    "data.tail()"
   ]
  },
  {
   "cell_type": "code",
   "execution_count": null,
   "id": "f417b8a1",
   "metadata": {},
   "outputs": [],
   "source": [
    "store = VectorDataStore(AvengingPassengersInstruct)\n",
    "records = [AvengingPassengersInstruct(**d) for d in data.to_dict('records')]\n",
    "logger.info(\"Starting\")\n",
    "result = store.add(records[:10])\n",
    "logger.info(\"Done\")"
   ]
  },
  {
   "cell_type": "code",
   "execution_count": null,
   "id": "9014e9b4",
   "metadata": {},
   "outputs": [],
   "source": [
    "store.load()"
   ]
  },
  {
   "cell_type": "code",
   "execution_count": null,
   "id": "29123d88",
   "metadata": {},
   "outputs": [],
   "source": [
    "store(\"Who is Hank Pym?\")"
   ]
  },
  {
   "cell_type": "code",
   "execution_count": null,
   "id": "13f4efdc",
   "metadata": {},
   "outputs": [],
   "source": [
    "store(\"What can you tell me about captain america? What was his real name?\")"
   ]
  },
  {
   "cell_type": "markdown",
   "id": "c47641a8",
   "metadata": {},
   "source": [
    "### places"
   ]
  },
  {
   "cell_type": "code",
   "execution_count": null,
   "id": "7d978f7d",
   "metadata": {},
   "outputs": [],
   "source": [
    "import pandas as pd\n",
    "data = pd.read_csv(\"/Users/sirsh/Downloads/nyc_zones.csv\").drop(columns='id',index=1).rename(columns={'entity_key':'id'})\n",
    "data['doc_id'] = data['id']\n",
    "data['name'] = data['id']\n",
    "data.head()"
   ]
  },
  {
   "cell_type": "code",
   "execution_count": null,
   "id": "9e67e4a1",
   "metadata": {},
   "outputs": [],
   "source": [
    "store = VectorDataStore(Places)\n"
   ]
  },
  {
   "cell_type": "code",
   "execution_count": null,
   "id": "407a7aa4",
   "metadata": {},
   "outputs": [],
   "source": [
    "records = [Places(**d) for d in data.to_dict('records')]\n",
    "store.add(records)"
   ]
  },
  {
   "cell_type": "code",
   "execution_count": null,
   "id": "68cce808",
   "metadata": {},
   "outputs": [],
   "source": [
    "store.load()"
   ]
  },
  {
   "cell_type": "code",
   "execution_count": null,
   "id": "5d98fb82",
   "metadata": {},
   "outputs": [],
   "source": [
    "store(\"What can you tell me about the civil airport in East Elmhurst Queens?\")"
   ]
  },
  {
   "cell_type": "code",
   "execution_count": null,
   "id": "f7c37b42",
   "metadata": {},
   "outputs": [],
   "source": [
    "store.query_index(\"What can you tell me about civil airport in East Elmhurst Queens?\")"
   ]
  },
  {
   "cell_type": "code",
   "execution_count": null,
   "id": "649fa29a",
   "metadata": {},
   "outputs": [],
   "source": []
  },
  {
   "cell_type": "code",
   "execution_count": null,
   "id": "c4105263",
   "metadata": {},
   "outputs": [],
   "source": []
  }
 ],
 "metadata": {
  "kernelspec": {
   "display_name": "Python 3 (ipykernel)",
   "language": "python",
   "name": "python3"
  },
  "language_info": {
   "codemirror_mode": {
    "name": "ipython",
    "version": 3
   },
   "file_extension": ".py",
   "mimetype": "text/x-python",
   "name": "python",
   "nbconvert_exporter": "python",
   "pygments_lexer": "ipython3",
   "version": "3.10.10"
  }
 },
 "nbformat": 4,
 "nbformat_minor": 5
}
