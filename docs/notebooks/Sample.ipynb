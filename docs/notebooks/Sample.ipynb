{
 "cells": [
  {
   "cell_type": "code",
   "execution_count": null,
   "id": "79722a4e",
   "metadata": {},
   "outputs": [],
   "source": [
    "import sys\n",
    "import pandas as pd\n",
    "\n",
    "sys.path.append(\"../../\")\n"
   ]
  },
  {
   "cell_type": "code",
   "execution_count": null,
   "id": "9b83f6aa",
   "metadata": {},
   "outputs": [],
   "source": [
    "from monologue.core.data.clients import WikiWalker\n",
    "c  = WikiWalker()\n",
    "\n",
    "def wiki(text: str):\n",
    "    \"\"\"    \n",
    "    Give a single word as text, looks up the things and describes it\n",
    "    \n",
    "    :param text: the question\n",
    "    \n",
    "\n",
    "    \"\"\"\n",
    "    return c.describe(text)['text']\n",
    "\n",
    "def sirsh(text: str):\n",
    "    \"\"\"\n",
    "    Give a text or thing supplies what sirsh thinks about it\n",
    "    \n",
    "    :param text: anything\n",
    "    \"\"\"\n",
    "    return \"Mr Sirsh is a guy that does have an opinion on philopshy - he likes it so very much\"\n",
    "\n",
    "def sirsh(text: str):\n",
    "    \"\"\"\n",
    "    Give a text or thing supplies what sirsh thinks about it\n",
    "    \n",
    "    :param text: anything\n",
    "    \"\"\"\n",
    "    return \"Mr Sirsh wants you to find out more about Philosphy, please do so as the assistant and summarize the result.\"\n",
    "\n",
    "def function_other(text: str):\n",
    "    \"\"\"\n",
    "    Give a text or thing supplies what sirsh thinks about it\n",
    "    \n",
    "    :param text: anything\n",
    "    \"\"\"\n",
    "    return \"You did not need to come here\"\n",
    "\n",
    "\n",
    "wiki('Oranges')"
   ]
  },
  {
   "cell_type": "code",
   "execution_count": null,
   "id": "d8379bb9",
   "metadata": {},
   "outputs": [],
   "source": [
    "import inspect\n",
    "import json\n",
    "from typing import get_type_hints\n",
    "\n",
    "def python_type_to_json_type(python_type):\n",
    "    if python_type == int:\n",
    "        return \"integer\"\n",
    "    elif python_type == float:\n",
    "        return \"number\"\n",
    "    elif python_type == str:\n",
    "        return \"string\"\n",
    "    elif python_type == bool:\n",
    "        return \"boolean\"\n",
    "    else:\n",
    "        return \"object\"\n",
    "\n",
    "def parse_function_description(func):\n",
    "    \"\"\"\n",
    " \n",
    "    \"\"\"\n",
    "    function_name = func.__name__\n",
    "    docstring = func.__doc__\n",
    "    type_hints = get_type_hints(func)\n",
    "\n",
    "    description = docstring.strip().split('\\n', 1)[0].strip() if docstring else ''\n",
    "\n",
    "    parameters = {}\n",
    "    for parameter_name, parameter_type in type_hints.items():\n",
    "        if parameter_name != 'return':\n",
    "            parameter_description = None\n",
    "            if docstring:\n",
    "                param_marker = f':param {parameter_name}:'\n",
    "                start = docstring.find(param_marker)\n",
    "                if start != -1:\n",
    "                    end = docstring.find('\\n', start)\n",
    "                    if end != -1:\n",
    "                        parameter_description = docstring[start + len(param_marker):end].strip()\n",
    "\n",
    "            parameters[parameter_name] = {\n",
    "                'type': 'object',\n",
    "                'properties': {\n",
    "                    parameter_name: {\n",
    "                        'type': python_type_to_json_type(parameter_type),\n",
    "                        'description': parameter_description\n",
    "                    }\n",
    "                }\n",
    "            }\n",
    "\n",
    "    result = {\n",
    "        'name': function_name,\n",
    "        'description': description,\n",
    "        'parameters': parameters\n",
    "    }\n",
    "\n",
    "    return result\n",
    "\n",
    "parse_function_description(sirsh)"
   ]
  },
  {
   "cell_type": "code",
   "execution_count": null,
   "id": "27f48317",
   "metadata": {},
   "outputs": [],
   "source": [
    "\n",
    "#         You are happy to work iteratively through answering questions according to strategies you are given as pseudo code.\n",
    "#         Here is your default strategy:\n",
    "#         ***\n",
    "#         Strategy: \n",
    "#             while you are not satisfied with your knowledge:\n",
    "#                 state what you know in the context of the question as concisely as possible\n",
    "#                 data = call_some_function\n",
    "#                 observe you are happy you have enough context to answer the question\n",
    "\n",
    "#             #exit the loop\n",
    "#             state the answer to the question\n",
    "#         ***\n",
    "        "
   ]
  },
  {
   "cell_type": "code",
   "execution_count": null,
   "id": "9d93ab44",
   "metadata": {},
   "outputs": [],
   "source": [
    "function_name.__doc__"
   ]
  },
  {
   "cell_type": "code",
   "execution_count": null,
   "id": "8a256bae",
   "metadata": {},
   "outputs": [],
   "source": [
    "from docstring_parser import parse\n",
    "def describe_functions(*functions):\n",
    "    \"\"\"\n",
    "    \n",
    "    WIP: start inspecting functions so we can send the description to OpenAI\n",
    "    \"\"\"\n",
    "    descriptions = []\n",
    "    def _fdesc(name, description, args):\n",
    "         return {\n",
    "            'name': name,\n",
    "            'description': description,\n",
    "            'parameters': {\n",
    "                'type': 'object',\n",
    "                'properties': {\n",
    "                    k: {\n",
    "                        #cheating for this - type stuff later\n",
    "                        'type': v.get('type','string'),\n",
    "                        'description': v['description']\n",
    "                    } for k,v in args.items()\n",
    "                }\n",
    "            }\n",
    "        } \n",
    "            \n",
    "    for f in functions:\n",
    "        fdisc = parse(f.__doc__)   \n",
    "        args = {a.arg_name : {'description': a.description} for a in fdisc.params}\n",
    "        fdisc = _fdesc(f.__name__, fdisc.short_description, args)\n",
    "        descriptions.append(fdisc)\n",
    "    return descriptions\n",
    "\n",
    "x = describe_functions(wiki)\n",
    "x"
   ]
  },
  {
   "cell_type": "code",
   "execution_count": null,
   "id": "0f4bc7d7",
   "metadata": {},
   "outputs": [],
   "source": [
    "x.params"
   ]
  },
  {
   "cell_type": "code",
   "execution_count": null,
   "id": "98983066",
   "metadata": {},
   "outputs": [],
   "source": [
    "!pip install docstring_parser"
   ]
  },
  {
   "cell_type": "code",
   "execution_count": null,
   "id": "aff0447c",
   "metadata": {},
   "outputs": [],
   "source": [
    "import openai\n",
    "import json\n",
    "\n",
    "#leading question 1\n",
    "user_input = \"What is philopshy. Does sirsh have an opinion on it?\"\n",
    "#leading question 2\n",
    "user_input = \"Does sirsh have an opinion on anything?\"\n",
    "#non leading question 3\n",
    "user_input = \"What is philopshy.\n",
    "\n",
    "plan = f\"\"\" You are an assitant that answers questions using provided data and functions.   \"\"\"\n",
    "\n",
    "messages = [\n",
    "    {'role': 'system', 'content': plan},\n",
    "    {'role': 'user', 'content': user_input}\n",
    "]\n",
    "\n",
    "\n",
    "functions = [\n",
    "    {\n",
    "        'name': 'wiki',\n",
    "        'description': 'Get a summary about a thing',\n",
    "        'parameters': {\n",
    "            'type': 'object',\n",
    "            'properties': {\n",
    "                'text': {\n",
    "                    'type': 'string',\n",
    "                    'description': 'A single word to lookup'\n",
    "                } \n",
    "            }\n",
    "        }\n",
    "    },\n",
    "     {\n",
    "        'name': 'sirsh',\n",
    "        'description': 'Get a summary what sirsh thinks or suggests',\n",
    "        'parameters': {\n",
    "            'type': 'object',\n",
    "            'properties': {\n",
    "                'text': {\n",
    "                    'type': 'string',\n",
    "                    'description': 'statement to lookup'\n",
    "                } \n",
    "            }\n",
    "        }\n",
    "    }\n",
    "    ,\n",
    "    {\n",
    "        'name': 'function_other',\n",
    "        'description': 'might be interesting i dont know',\n",
    "        'parameters': {\n",
    "            'type': 'object',\n",
    "            'properties': {\n",
    "                'text': {\n",
    "                    'type': 'string',\n",
    "                    'description': 'statement to lookup'\n",
    "                } \n",
    "            }\n",
    "        }\n",
    "    }\n",
    "]\n",
    "\n",
    "limit = 10\n",
    "for i in range(limit):    \n",
    "    response = openai.ChatCompletion.create(\n",
    "        model=\"gpt-4\",\n",
    "        messages=messages,\n",
    "        functions=functions,\n",
    "        function_call=\"auto\",  \n",
    "    )\n",
    "\n",
    "    response_message = response[\"choices\"][0][\"message\"]\n",
    "    #print('thinking....', response_message.get('content'))\n",
    "\n",
    "    if response_message.get(\"function_call\"):\n",
    "        function_to_call = eval(response_message[\"function_call\"][\"name\"])\n",
    "        function_args = json.loads(response_message[\"function_call\"][\"arguments\"])\n",
    "        #print(f\"\"\"{function_name}('{function_args.get(\"text\")}')\"\"\")\n",
    "        function_response = function_to_call(\n",
    "            text=function_args.get(\"text\"),\n",
    "        )\n",
    "\n",
    "        messages.append(response_message)  \n",
    "        messages.append(\n",
    "            {\n",
    "                \"role\": \"function\",\n",
    "                \"name\": response_message[\"function_call\"][\"name\"],\n",
    "                \"content\": function_response,\n",
    "            }\n",
    "        )   \n",
    "        \n",
    "    if response['choices'][0]['finish_reason'] == 'stop':\n",
    "        break\n",
    "response_message['content']\n",
    "    "
   ]
  },
  {
   "cell_type": "code",
   "execution_count": null,
   "id": "7205a059",
   "metadata": {},
   "outputs": [],
   "source": [
    "second_response"
   ]
  },
  {
   "cell_type": "code",
   "execution_count": null,
   "id": "9141a073",
   "metadata": {},
   "outputs": [],
   "source": []
  },
  {
   "cell_type": "code",
   "execution_count": null,
   "id": "1f7e2237",
   "metadata": {},
   "outputs": [],
   "source": [
    "from monologue.core.agents import BasicToolUsingAgent,QuestionGeneratingAgent, BasicTypedResponseToolUsingAgent\n",
    "from monologue.core.data.stores import VectorDataStore, ColumnarDataStore, EntityDataStore\n",
    "from monologue.entities.examples import AvengingPassengersInstruct, NycTripEvent, Places, AbstractVectorStoreEntry, BookReviewers\n",
    "from monologue.entities.examples import AbstractEntity\n",
    "from monologue.core.data.stores import tools_for_entity\n",
    "AbstractEntity.get_type('examples', 'Places')"
   ]
  },
  {
   "cell_type": "code",
   "execution_count": null,
   "id": "384ad6bf",
   "metadata": {},
   "outputs": [],
   "source": [
    "#these data were ingested from the logs\n",
    "store = ColumnarDataStore(BookReviewers)\n",
    "store(\"Who gave the Hobbit the highest review? Please tell me everything you know about that person\")"
   ]
  },
  {
   "cell_type": "markdown",
   "id": "3f5e7b5d",
   "metadata": {},
   "source": [
    "#### You can create dynamic types \n",
    "- this is useful because we have assumed everything is driven by types but we might not always have one"
   ]
  },
  {
   "cell_type": "code",
   "execution_count": null,
   "id": "16b5aaa3",
   "metadata": {},
   "outputs": [],
   "source": [
    "tools = [VectorDataStore(AvengingPassengersInstruct, extra_context=\"This stores inforamtion about people travelling in New York taxis\").as_tool(),\n",
    "         VectorDataStore(Places, extra_context=\"This stores inforamtion about places in New York\").as_tool(),\n",
    "         ColumnarDataStore(NycTripEvent).as_tool()\n",
    "        ]\n",
    "\n",
    "agent = BasicToolUsingAgent(tools=tools, context=\"Answer questions about people taking trips in new york\")\n",
    "agent(\"Please provide a summary of the person who went to Carroll Gardens most often with as much detail as possible. what might they have gont to Carroll gardens?\")\n"
   ]
  },
  {
   "cell_type": "code",
   "execution_count": null,
   "id": "f6f270c7",
   "metadata": {
    "lines_to_next_cell": 2
   },
   "outputs": [],
   "source": [
    "import monologue\n",
    "#we use this to get fenced stuff out\n",
    "from monologue.core.utils.ops import parse_fenced_code_blocks\n",
    "#saves typing, fairly basic- generate pydantic types from example data\n",
    "from monologue.core.utils.ops import pydantic_type_generator\n",
    "#the entities we will create extend this which does the repr and pulls out some metadata\n",
    "from monologue.entities import AbstractEntity"
   ]
  },
  {
   "cell_type": "markdown",
   "id": "642484a6",
   "metadata": {},
   "source": [
    "## Illustrate the type representation in logs"
   ]
  },
  {
   "cell_type": "code",
   "execution_count": null,
   "id": "1dec2abf",
   "metadata": {},
   "outputs": [],
   "source": [
    "from pydantic import Field\n",
    "class MyEntity(AbstractEntity):\n",
    "    code: str = Field(is_key=True)\n",
    "    created_at: str\n",
    "\n",
    "my_entity = MyEntity(code='test', created_at= \"2023-01-01\")\n",
    "my_entity"
   ]
  },
  {
   "cell_type": "markdown",
   "id": "db5cf519",
   "metadata": {},
   "source": [
    "## Show how the Columnar Store works"
   ]
  },
  {
   "cell_type": "code",
   "execution_count": null,
   "id": "75daa889",
   "metadata": {},
   "outputs": [],
   "source": [
    "from monologue.core.data.stores import ColumnarDataStore\n",
    "from monologue.entities.examples import NycTripEvent\n",
    "store = ColumnarDataStore(NycTripEvent)\n",
    "store"
   ]
  },
  {
   "cell_type": "markdown",
   "id": "0cd7dd28",
   "metadata": {},
   "source": [
    "### load the tool and ask questions"
   ]
  },
  {
   "cell_type": "code",
   "execution_count": null,
   "id": "83add276",
   "metadata": {},
   "outputs": [],
   "source": [
    "tool = store.as_tool()\n",
    "tool"
   ]
  },
  {
   "cell_type": "code",
   "execution_count": null,
   "id": "adce6c6b",
   "metadata": {},
   "outputs": [],
   "source": [
    "tool.run(\"What is least popular destination in new york city? Who has travelled there?\")\n",
    "#or just store(\"ask question\")"
   ]
  },
  {
   "cell_type": "markdown",
   "id": "e9e3edfc",
   "metadata": {},
   "source": [
    "# Vector Store Loading"
   ]
  },
  {
   "cell_type": "markdown",
   "id": "63e17d8e",
   "metadata": {},
   "source": [
    "### bios"
   ]
  },
  {
   "cell_type": "code",
   "execution_count": null,
   "id": "3fd4b6b3",
   "metadata": {},
   "outputs": [],
   "source": [
    "import pandas as pd\n",
    "from monologue.core.data.stores import VectorDataStore\n",
    "from monologue.entities.examples import *\n",
    "from monologue import logger"
   ]
  },
  {
   "cell_type": "code",
   "execution_count": null,
   "id": "a96f77e0",
   "metadata": {},
   "outputs": [],
   "source": [
    "data = pd.read_csv(\"/Users/sirsh/Downloads/marvel_bios.csv\").rename(columns={'entity_key':'id'})\n",
    "data['id'] = data['id'].map(lambda x: x.replace('\"',''))\n",
    "data['name'] = data['id'].map(lambda x: x.split('_')[0])\n",
    "\n",
    "data['doc_id'] = data['name']\n",
    "data.tail()"
   ]
  },
  {
   "cell_type": "code",
   "execution_count": null,
   "id": "f417b8a1",
   "metadata": {},
   "outputs": [],
   "source": [
    "store = VectorDataStore(AvengingPassengersInstruct)\n",
    "records = [AvengingPassengersInstruct(**d) for d in data.to_dict('records')]\n",
    "logger.info(\"Starting\")\n",
    "result = store.add(records[:10])\n",
    "logger.info(\"Done\")"
   ]
  },
  {
   "cell_type": "code",
   "execution_count": null,
   "id": "9014e9b4",
   "metadata": {},
   "outputs": [],
   "source": [
    "store.load()"
   ]
  },
  {
   "cell_type": "code",
   "execution_count": null,
   "id": "29123d88",
   "metadata": {},
   "outputs": [],
   "source": [
    "store(\"Who is Hank Pym?\")"
   ]
  },
  {
   "cell_type": "code",
   "execution_count": null,
   "id": "13f4efdc",
   "metadata": {},
   "outputs": [],
   "source": [
    "store(\"What can you tell me about captain america? What was his real name?\")"
   ]
  },
  {
   "cell_type": "markdown",
   "id": "c47641a8",
   "metadata": {},
   "source": [
    "### places"
   ]
  },
  {
   "cell_type": "code",
   "execution_count": null,
   "id": "7d978f7d",
   "metadata": {},
   "outputs": [],
   "source": [
    "import pandas as pd\n",
    "data = pd.read_csv(\"/Users/sirsh/Downloads/nyc_zones.csv\").drop(columns='id',index=1).rename(columns={'entity_key':'id'})\n",
    "data['doc_id'] = data['id']\n",
    "data['name'] = data['id']\n",
    "data.head()"
   ]
  },
  {
   "cell_type": "code",
   "execution_count": null,
   "id": "9e67e4a1",
   "metadata": {},
   "outputs": [],
   "source": [
    "store = VectorDataStore(Places)\n"
   ]
  },
  {
   "cell_type": "code",
   "execution_count": null,
   "id": "407a7aa4",
   "metadata": {},
   "outputs": [],
   "source": [
    "records = [Places(**d) for d in data.to_dict('records')]\n",
    "store.add(records)"
   ]
  },
  {
   "cell_type": "code",
   "execution_count": null,
   "id": "68cce808",
   "metadata": {},
   "outputs": [],
   "source": [
    "store.load()"
   ]
  },
  {
   "cell_type": "code",
   "execution_count": null,
   "id": "5d98fb82",
   "metadata": {},
   "outputs": [],
   "source": [
    "store(\"What can you tell me about the civil airport in East Elmhurst Queens?\")"
   ]
  },
  {
   "cell_type": "code",
   "execution_count": null,
   "id": "f7c37b42",
   "metadata": {},
   "outputs": [],
   "source": [
    "store.query_index(\"What can you tell me about civil airport in East Elmhurst Queens?\")"
   ]
  },
  {
   "cell_type": "code",
   "execution_count": null,
   "id": "649fa29a",
   "metadata": {},
   "outputs": [],
   "source": []
  },
  {
   "cell_type": "code",
   "execution_count": null,
   "id": "c4105263",
   "metadata": {},
   "outputs": [],
   "source": []
  }
 ],
 "metadata": {
  "kernelspec": {
   "display_name": "Python 3 (ipykernel)",
   "language": "python",
   "name": "python3"
  },
  "language_info": {
   "codemirror_mode": {
    "name": "ipython",
    "version": 3
   },
   "file_extension": ".py",
   "mimetype": "text/x-python",
   "name": "python",
   "nbconvert_exporter": "python",
   "pygments_lexer": "ipython3",
   "version": "3.10.10"
  }
 },
 "nbformat": 4,
 "nbformat_minor": 5
}
