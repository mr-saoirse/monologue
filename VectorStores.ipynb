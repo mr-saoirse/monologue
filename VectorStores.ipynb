{
 "cells": [
  {
   "cell_type": "markdown",
   "id": "9b9ade4d",
   "metadata": {},
   "source": [
    "# Vector stores\n",
    "- the vector store uses a hance dataset to merge texual dat and embeddings (stored on s3)\n",
    "- The the store itself adds question answering and data loading interface"
   ]
  },
  {
   "cell_type": "code",
   "execution_count": null,
   "id": "d2cf7845",
   "metadata": {},
   "outputs": [],
   "source": [
    "from monologue.core.data.vectors import LanceDataSet"
   ]
  },
  {
   "cell_type": "code",
   "execution_count": null,
   "id": "b22c0b39",
   "metadata": {},
   "outputs": [],
   "source": [
    "ds = LanceDataSet('examples_AvengingPassengersInstruct')\n",
    "ds.load().head()"
   ]
  },
  {
   "cell_type": "code",
   "execution_count": null,
   "id": "7846c333",
   "metadata": {},
   "outputs": [],
   "source": [
    "from warnings import filterwarnings\n",
    "filterwarnings('ignore')\n",
    "from monologue.entities.examples import AvengingPassengersInstruct\n",
    "from monologue.core.stores import VectorDataStore\n",
    "store = VectorDataStore(AvengingPassengersInstruct)\n",
    "store"
   ]
  },
  {
   "cell_type": "code",
   "execution_count": null,
   "id": "d6ea910c",
   "metadata": {},
   "outputs": [],
   "source": [
    "store(\"Who is hank pym?\")"
   ]
  },
  {
   "cell_type": "markdown",
   "id": "0b5635e1",
   "metadata": {},
   "source": [
    "## Diving into Agent/Index types"
   ]
  },
  {
   "cell_type": "code",
   "execution_count": null,
   "id": "607292fa",
   "metadata": {},
   "outputs": [],
   "source": [
    "\n"
   ]
  },
  {
   "cell_type": "code",
   "execution_count": null,
   "id": "33d08799",
   "metadata": {},
   "outputs": [],
   "source": []
  }
 ],
 "metadata": {
  "kernelspec": {
   "display_name": "Python 3 (ipykernel)",
   "language": "python",
   "name": "python3"
  },
  "language_info": {
   "codemirror_mode": {
    "name": "ipython",
    "version": 3
   },
   "file_extension": ".py",
   "mimetype": "text/x-python",
   "name": "python",
   "nbconvert_exporter": "python",
   "pygments_lexer": "ipython3",
   "version": "3.10.10"
  }
 },
 "nbformat": 4,
 "nbformat_minor": 5
}
