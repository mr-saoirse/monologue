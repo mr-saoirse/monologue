{
 "cells": [
  {
   "cell_type": "markdown",
   "id": "4a79e976",
   "metadata": {},
   "source": [
    "# Vector stores\n",
    "- the vector store uses a hance dataset to merge texual dat and embeddings (stored on s3)\n",
    "- The the store itself adds question answering and data loading interface"
   ]
  },
  {
   "cell_type": "code",
   "execution_count": null,
   "id": "abd5c2bb",
   "metadata": {},
   "outputs": [],
   "source": [
    "from monologue.core.data.vectors import LanceDataSet"
   ]
  },
  {
   "cell_type": "code",
   "execution_count": null,
   "id": "918bbf18",
   "metadata": {},
   "outputs": [],
   "source": [
    "ds = LanceDataSet('examples_AvengingPassengersInstruct')\n",
    "ds.load().head()"
   ]
  },
  {
   "cell_type": "code",
   "execution_count": null,
   "id": "ed9eca09",
   "metadata": {},
   "outputs": [],
   "source": [
    "from warnings import filterwarnings\n",
    "filterwarnings('ignore')\n",
    "from monologue.entities.examples import AvengingPassengersInstruct\n",
    "from monologue.core.stores import VectorDataStore\n",
    "store = VectorDataStore(AvengingPassengersInstruct)\n",
    "store"
   ]
  },
  {
   "cell_type": "code",
   "execution_count": null,
   "id": "2f0773f2",
   "metadata": {},
   "outputs": [],
   "source": [
    "store(\"Who is hank pym?\")"
   ]
  },
  {
   "cell_type": "code",
   "execution_count": 2,
   "id": "cda48899",
   "metadata": {},
   "outputs": [
    {
     "data": {
      "text/plain": [
       "<monologue.core.stores.ColumnarStore.ColumnarDataStore at 0x154d45b10>"
      ]
     },
     "execution_count": 2,
     "metadata": {},
     "output_type": "execute_result"
    }
   ],
   "source": [
    "from monologue.entities.examples import NycTripEvent\n",
    "from monologue.core.stores import ColumnarDataStore\n",
    "cstore = ColumnarDataStore(NycTripEvent)\n",
    "cstore"
   ]
  },
  {
   "cell_type": "markdown",
   "id": "fb2845d8",
   "metadata": {},
   "source": [
    "## Diving into Agent/Index types"
   ]
  },
  {
   "cell_type": "code",
   "execution_count": 3,
   "id": "453205d3",
   "metadata": {},
   "outputs": [
    {
     "name": "stderr",
     "output_type": "stream",
     "text": [
      "\u001b[32m2023-10-02 13:03:51.775\u001b[0m | \u001b[34m\u001b[1mDEBUG   \u001b[0m | \u001b[36mmonologue.core.stores.ColumnarStore\u001b[0m:\u001b[36mask\u001b[0m:\u001b[36m62\u001b[0m - \u001b[34m\u001b[1mFor a table called TABLE with the ['index', 'passenger_name', 'pick_up_at', 'drop_off_at', 'passenger_count', 'trip_distance', 'payment_type', 'congestion_surcharge', 'airport_fee', 'borough_pick_up', 'zone_pick_up', 'borough_drop_off', 'zone_drop_off'], and the following column enum types {'passenger_count': [None, 0.0, 1.0, 2.0, 3.0, 4.0, 5.0, 6.0], 'payment_type': ['Credit card', 'Unknown', 'No charge', 'Cash', 'Dispute'], 'congestion_surcharge': [None, 0.0, 2.5, -2.5], 'airport_fee': [None, 0.0, 1.25, -1.25], 'borough_pick_up': ['Unknown', 'Bronx', 'Manhattan', 'Brooklyn', 'Staten Island', 'Queens', 'EWR'], 'zone_pick_up': ['Van Nest/Morris Park', 'East New York/Pennsylvania Avenue', 'Lenox Hill West', 'Woodside', 'Seaport', 'Times Sq/Theatre District', 'Flushing Meadows-Corona Park', 'Oakland Gardens', 'Elmhurst', 'West Concourse', 'East Chelsea', 'East Tremont', 'Baisley Park', 'East Williamsburg', 'Two Bridges/Seward Park', 'Far Rockaway', 'Bloomingdale', 'Kew Gardens', 'Bloomfield/Emerson Hill', 'Garment District', 'Briarwood/Jamaica Hills', 'Gramercy', 'Westchester Village/Unionport', 'Flatlands', 'Upper East Side North', 'Clinton West', 'Starrett City', 'Lenox Hill East', 'World Trade Center', 'Midtown South', 'East Elmhurst', 'Morningside Heights', 'Rockaway Park', 'Financial District North', 'Ocean Parkway South', 'Midtown East', 'Washington Heights North', 'Flushing', 'Midwood', 'Randalls Island', 'Van Cortlandt Village', 'Crown Heights South', 'Upper West Side South', 'Arden Heights', 'Sunset Park East', 'TriBeCa/Civic Center', 'Little Italy/NoLiTa', 'Mount Hope', 'Co-Op City', 'Crotona Park East', 'Murray Hill', 'Yorkville West', 'Stuyvesant Heights', 'Parkchester', 'SoHo', 'Red Hook', 'Bayside', 'Upper East Side South', 'Alphabet City', 'Brownsville', 'Sheepshead Bay', 'East Village', 'Sunnyside', 'Steinway', 'Corona', 'Forest Hills', 'Williamsburg (South Side)', 'Midtown Center', 'Cypress Hills', 'Allerton/Pelham Gardens', 'Bushwick South', 'Lincoln Square East', 'Willets Point', 'Roosevelt Island', 'DUMBO/Vinegar Hill', 'Kingsbridge Heights', 'Union Sq', 'Cambria Heights', 'Bushwick North', 'Bellerose', 'Prospect-Lefferts Gardens', 'Central Harlem', 'Jamaica', 'Saint Michaels Cemetery/Woodside', 'Glen Oaks', 'Bronxdale', 'Homecrest', 'Ridgewood', 'South Ozone Park', 'Flatbush/Ditmas Park', 'Elmhurst/Maspeth', 'Long Island City/Queens Plaza', 'Springfield Gardens South', 'Jamaica Estates', 'Sutton Place/Turtle Bay North', 'Hollis', 'South Jamaica', 'Central Harlem North', 'Yorkville East', 'Mott Haven/Port Morris', 'Kew Gardens Hills', 'Eastchester', 'Stapleton', 'Stuy Town/Peter Cooper Village', 'Bedford Park', 'Clinton East', None, 'Canarsie', 'Arrochar/Fort Wadsworth', 'Manhattan Beach', 'Springfield Gardens North', 'Bensonhurst East', 'West Village', 'LaGuardia Airport', 'East New York', 'Lower East Side', 'East Harlem North', 'Hamilton Heights', 'Lincoln Square West', 'Cobble Hill', 'Clinton Hill', 'East Harlem South', 'Flatiron', 'Central Park', 'Rego Park', 'Battery Park City', 'Greenwich Village North', 'East Concourse/Concourse Village', 'Astoria', 'Park Slope', 'Williamsburg (North Side)', 'JFK Airport', 'Old Astoria', 'Van Cortlandt Park', 'Battery Park', 'Hillcrest/Pomonok', 'Soundview/Bruckner', 'Claremont/Bathgate', 'Newark Airport', 'Borough Park', 'Carroll Gardens', 'Schuylerville/Edgewater Park', 'Auburndale', 'Greenwich Village South', 'Fort Greene', 'Penn Station/Madison Sq West', 'Midtown North', 'Upper West Side North', 'Soundview/Castle Hill', 'Maspeth', 'Jackson Heights', 'Melrose South', 'Whitestone', 'Queensbridge/Ravenswood', 'UN/Turtle Bay South', 'Crown Heights North', 'Kips Bay', 'Inwood', 'Meatpacking/West Village West', 'Washington Heights South', 'Marine Park/Mill Basin', 'Bedford', 'Richmond Hill', 'Howard Beach', 'Chinatown', 'Queens Village', 'Financial District South', 'Greenpoint', 'Hudson Sq', 'Manhattanville', 'Saint Albans', 'West Chelsea/Hudson Yards', 'Coney Island', 'Bay Ridge', 'Brooklyn Heights', 'Prospect Heights', 'Manhattan Valley', 'Downtown Brooklyn/MetroTech', 'New Dorp/Midland Beach', 'Long Island City/Hunters Point', 'East Flatbush/Remsen Village', 'Boerum Hill', 'NV'], 'borough_drop_off': ['Bronx', 'Manhattan', 'EWR', 'Staten Island', 'Queens', 'Unknown', 'Brooklyn'], 'passenger_name': ['Greg Willis', 'Kelsey Leigh Shorr', 'Ava Ayala', 'Adam', 'Amadeus Cho', 'Christopher Powell', 'Simon Williams', 'Rita DeMara', 'Tony Masters', 'Doug Taggert', 'Shiro Yoshida', 'Miguel Santos', 'James R. Rhodes', 'Wanda Maximoff', 'Stakar', 'Maya Lopez', 'Moira Brandon', 'Elijah Bradley', 'Kevin Masterson', 'John Aman', 'James \"Logan\" Howlett', 'Steven Rogers', \"Eric O'Grady\", 'Carl Lucas', 'William Baker', 'Elvin Haliday', 'Namor McKenzie', 'Carol Susan Jane Danvers', 'Clinton Francis Barton', 'Henry P. McCoy', 'Ashley Crawford', 'Kaluu', 'Marcus Milton', \"Daniel Thomas Rand K'ai\", 'Vance Astrovik', 'James Buchanan Barnes', 'Mar-Vell', 'Thor Odinson', 'Dennis Dunphy', 'James Santini', 'Roberto da Costa', 'Craig Hollis', 'Jennifer Takeda', 'Jocasta', 'Alex Summers', 'Marc Spector', 'America Chavez', 'Val Ventura', 'Fiona', 'Maria Hill', 'Matthew Liebowitz (birth name)', \"T'Challa\", 'Eros', 'Brandon Sharpe', 'Dorreen Green', 'Angelica Jones', 'Shang-Chi', 'Nicholette Gold', 'Taki Matsuya', 'Alexis', 'Sharon Carter', 'Peter Benjamin Parker', 'Emery Schaub', 'John F. Walker', 'Patsy Walker', 'Robert Reynolds', 'Jessica Miriam Drew', 'Crystal Amaquelin Maximoff', 'Jacques Duquesne', 'Wade Wilson', 'Izzy Kane', 'Samuel Thomas Wilson', 'Bonita Juarez', 'Susan Richards (nee Storm)', 'Thomas \"Tommy\" Shepherd', 'David Alleyne', 'Janet van Dyne', 'Phillip Javert', 'Cassie Lang', None, 'Anthony Edward Stark', 'Heather Douglas', \"Martinex T'Naga\", 'Circe', 'Phillip Coulson', 'Yvette', 'Robert L. Frank Sr.', 'X-51', 'Ororo Munroe', 'Victor Shade (alias)', 'Alias: Jonas', 'Barbara Barton (nee Morse)', 'Flash Thompson', 'Veranke', 'Julia Carpenter', 'Maria de Guadalupe Santiago', 'Samuel Guthrie', 'Jeanne Foucault', 'Pietro Maximoff', 'Yondu Udonta', 'Natalia Alianovna Romanova', 'Victor Mancha', 'Humberto Lopez', 'Robbie Baldwin', 'Delroy Garrett Jr.', 'Anna Marie', 'Ken Mack', 'Gene Lorrene', 'Dennis Sykes', 'Ravonna Lexus Renslayer', 'Thaddeus Ross', 'Eden Fesi', 'Wendell Elvis Vaughn', 'Benjamin Jacob Grimm', 'Anthony Edward \"Tony\" Stark', 'Loki Laufeyson', 'Jennifer Walters', 'Sam Alexander', 'Doctor Stephen Vincent Strange', 'Robert Bruce Banner', 'Anthony Ludgate Druid', 'Marrina Smallwood', 'Nicholas Fury, Jr., Marcus Johnson', 'Richard Rider', 'Scott Edward Harris Lang', 'Jonathan Hart', 'Walter Newell', 'Jim Hammond (alias)', 'Matt Murdock', 'Eric Kevin Masterson', 'Richard Milhouse Jones', 'Michiko Musashi', '\"Giulietta Nefaria\"', 'Reed Richards', 'Dorrek VIII/Theodore \"Teddy\" Altman', 'Otto Octavius', 'Jessica Jones', 'Eric Brooks', 'Julie Power', 'DeMarr Davis', 'Daisy Johnson', 'Monica Rambeau', 'Greer Grant Nelson', 'Brian Braddock', 'Brunnhilde', 'Dane Whitman', 'Noh-Varr', 'Katherine \"Kate\" Bishop', 'Charlie-27', 'Alani Ryan', 'Nathaniel Richards', 'William \"Billy\" Kaplan', 'Monica Chang', 'Henry Jonathan \"Hank\" Pym', 'Victor Alvarez', 'Kevin Kale Connor', 'Brandt', 'Johnny Gallo', 'Lyra', 'Adam Brashear', 'Ares', 'Anya Corazon', 'Heracles']} ignore any columns asked that are not in this schema and give\n",
      "                me a DuckDB dialect sql query without any explanation that answers the question below. \n",
      "                Question: How many people have been to carroll gardens and what was the average travel time?  \u001b[0m\n",
      "\u001b[32m2023-10-02 13:03:56.143\u001b[0m | \u001b[34m\u001b[1mDEBUG   \u001b[0m | \u001b[36mmonologue.core.stores.ColumnarStore\u001b[0m:\u001b[36mask\u001b[0m:\u001b[36m67\u001b[0m - \u001b[34m\u001b[1mSELECT COUNT(DISTINCT passenger_name) AS total_people, AVG(trip_distance) AS average_travel_distance\n",
      "FROM 's3://res-data-platform/stores/columnar/v0/NycTripEvent/examples/parts/0/data.parquet'\n",
      "WHERE zone_pick_up = 'Carroll Gardens' OR zone_drop_off = 'Carroll Gardens';\u001b[0m\n"
     ]
    },
    {
     "data": {
      "text/plain": [
       "[{'total_people': 28, 'average_travel_distance': 7.9077419354838705}]"
      ]
     },
     "execution_count": 3,
     "metadata": {},
     "output_type": "execute_result"
    }
   ],
   "source": [
    "cstore(\"How many people have been to carroll gardens and what was the average travel time? \")"
   ]
  },
  {
   "cell_type": "code",
   "execution_count": null,
   "id": "aa34407d",
   "metadata": {},
   "outputs": [],
   "source": []
  }
 ],
 "metadata": {
  "kernelspec": {
   "display_name": "Python 3 (ipykernel)",
   "language": "python",
   "name": "python3"
  },
  "language_info": {
   "codemirror_mode": {
    "name": "ipython",
    "version": 3
   },
   "file_extension": ".py",
   "mimetype": "text/x-python",
   "name": "python",
   "nbconvert_exporter": "python",
   "pygments_lexer": "ipython3",
   "version": "3.10.10"
  }
 },
 "nbformat": 4,
 "nbformat_minor": 5
}
