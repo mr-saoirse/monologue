{
 "cells": [
  {
   "cell_type": "code",
   "execution_count": null,
   "id": "79722a4e",
   "metadata": {},
   "outputs": [],
   "source": []
  },
  {
   "cell_type": "code",
   "execution_count": null,
   "id": "f6f270c7",
   "metadata": {},
   "outputs": [],
   "source": [
    "import monologue\n",
    "#we use this to get fenced stuff out\n",
    "from monologue.core.utils.ops import parse_fenced_code_blocks\n",
    "#saves typing, fairly basic- generate pydantic types from example data\n",
    "from monologue.core.utils.ops import pydantic_type_generator\n",
    "#the entities we will create extend this which does the repr and pulls out some metadata\n",
    "from monologue.entities import AbstractEntity\n"
   ]
  },
  {
   "cell_type": "markdown",
   "id": "642484a6",
   "metadata": {},
   "source": [
    "## Illustrate the type representation in logs"
   ]
  },
  {
   "cell_type": "code",
   "execution_count": null,
   "id": "1dec2abf",
   "metadata": {},
   "outputs": [],
   "source": [
    "from pydantic import Field\n",
    "class MyEntity(AbstractEntity):\n",
    "    code: str = Field(is_key=True)\n",
    "    created_at: str\n",
    "\n",
    "my_entity = MyEntity(code='test', created_at= \"2023-01-01\")\n",
    "my_entity"
   ]
  },
  {
   "cell_type": "markdown",
   "id": "db5cf519",
   "metadata": {},
   "source": [
    "## Show how the Columnar Store works"
   ]
  },
  {
   "cell_type": "code",
   "execution_count": null,
   "id": "75daa889",
   "metadata": {},
   "outputs": [],
   "source": [
    "from monologue.core.data.stores import ColumnarDataStore\n",
    "from monologue.entities.examples import NycTripEvent\n",
    "store = ColumnarDataStore(NycTripEvent)\n",
    "store"
   ]
  },
  {
   "cell_type": "markdown",
   "id": "c884617d",
   "metadata": {},
   "source": [
    "### how we add data to the store"
   ]
  },
  {
   "cell_type": "code",
   "execution_count": null,
   "id": "289685b2",
   "metadata": {},
   "outputs": [],
   "source": [
    "# import pandas as pd\n",
    "# data = pd.read_csv(\"/Users/sirsh/Downloads/nyc_trip_data_sample.csv\") \n",
    "# store.add(data)"
   ]
  },
  {
   "cell_type": "markdown",
   "id": "0cd7dd28",
   "metadata": {},
   "source": [
    "### load the tool and ask questions"
   ]
  },
  {
   "cell_type": "code",
   "execution_count": null,
   "id": "83add276",
   "metadata": {},
   "outputs": [],
   "source": [
    "tool = store.as_tool()\n",
    "tool"
   ]
  },
  {
   "cell_type": "code",
   "execution_count": null,
   "id": "adce6c6b",
   "metadata": {},
   "outputs": [],
   "source": [
    "tool.run(\"What is least popular destination in new york city? Who has travelled there?\")"
   ]
  },
  {
   "cell_type": "markdown",
   "id": "e9e3edfc",
   "metadata": {},
   "source": [
    "# Vector Store Loading"
   ]
  },
  {
   "cell_type": "markdown",
   "id": "3cd3fee9",
   "metadata": {},
   "source": [
    "### bios"
   ]
  },
  {
   "cell_type": "code",
   "execution_count": 1,
   "id": "3fd4b6b3",
   "metadata": {},
   "outputs": [],
   "source": [
    "import pandas as pd\n",
    "from monologue.core.data.stores import VectorDataStore\n",
    "from monologue.core.utils.ops import pydantic_to_pyarrow_schema\n",
    "from monologue.entities.examples import *"
   ]
  },
  {
   "cell_type": "code",
   "execution_count": 3,
   "id": "72f959fa",
   "metadata": {},
   "outputs": [
    {
     "data": {
      "text/html": [
       "<div>\n",
       "<style scoped>\n",
       "    .dataframe tbody tr th:only-of-type {\n",
       "        vertical-align: middle;\n",
       "    }\n",
       "\n",
       "    .dataframe tbody tr th {\n",
       "        vertical-align: top;\n",
       "    }\n",
       "\n",
       "    .dataframe thead th {\n",
       "        text-align: right;\n",
       "    }\n",
       "</style>\n",
       "<table border=\"1\" class=\"dataframe\">\n",
       "  <thead>\n",
       "    <tr style=\"text-align: right;\">\n",
       "      <th></th>\n",
       "      <th>entity_type</th>\n",
       "      <th>id</th>\n",
       "      <th>text</th>\n",
       "      <th>name</th>\n",
       "      <th>doc_id</th>\n",
       "    </tr>\n",
       "  </thead>\n",
       "  <tbody>\n",
       "    <tr>\n",
       "      <th>8104</th>\n",
       "      <td>people</td>\n",
       "      <td>Kaluu_12</td>\n",
       "      <td>Since then Doctor Strange has purged himself o...</td>\n",
       "      <td>Kaluu</td>\n",
       "      <td>Kaluu</td>\n",
       "    </tr>\n",
       "    <tr>\n",
       "      <th>8105</th>\n",
       "      <td>people</td>\n",
       "      <td>Kaluu_13</td>\n",
       "      <td>Kaluu was later contacted via crystal ball by ...</td>\n",
       "      <td>Kaluu</td>\n",
       "      <td>Kaluu</td>\n",
       "    </tr>\n",
       "    <tr>\n",
       "      <th>8106</th>\n",
       "      <td>people</td>\n",
       "      <td>Kaluu_14</td>\n",
       "      <td>Kaluu is a powerful black magician, considered...</td>\n",
       "      <td>Kaluu</td>\n",
       "      <td>Kaluu</td>\n",
       "    </tr>\n",
       "    <tr>\n",
       "      <th>8107</th>\n",
       "      <td>people</td>\n",
       "      <td>Kaluu_15</td>\n",
       "      <td>Expert Occultist/Expert Magical Knowledge: Dur...</td>\n",
       "      <td>Kaluu</td>\n",
       "      <td>Kaluu</td>\n",
       "    </tr>\n",
       "    <tr>\n",
       "      <th>8108</th>\n",
       "      <td>people</td>\n",
       "      <td>Kaluu_16</td>\n",
       "      <td>Skilled Martial Artist: Kaluu is a skilled ath...</td>\n",
       "      <td>Kaluu</td>\n",
       "      <td>Kaluu</td>\n",
       "    </tr>\n",
       "  </tbody>\n",
       "</table>\n",
       "</div>"
      ],
      "text/plain": [
       "     entity_type        id                                               text  \\\n",
       "8104      people  Kaluu_12  Since then Doctor Strange has purged himself o...   \n",
       "8105      people  Kaluu_13  Kaluu was later contacted via crystal ball by ...   \n",
       "8106      people  Kaluu_14  Kaluu is a powerful black magician, considered...   \n",
       "8107      people  Kaluu_15  Expert Occultist/Expert Magical Knowledge: Dur...   \n",
       "8108      people  Kaluu_16  Skilled Martial Artist: Kaluu is a skilled ath...   \n",
       "\n",
       "       name doc_id  \n",
       "8104  Kaluu  Kaluu  \n",
       "8105  Kaluu  Kaluu  \n",
       "8106  Kaluu  Kaluu  \n",
       "8107  Kaluu  Kaluu  \n",
       "8108  Kaluu  Kaluu  "
      ]
     },
     "execution_count": 3,
     "metadata": {},
     "output_type": "execute_result"
    }
   ],
   "source": [
    "data = pd.read_csv(\"/Users/sirsh/Downloads/marvel_bios.csv\").rename(columns={'entity_key':'id'})\n",
    "data['id'] = data['id'].map(lambda x: x.replace('\"',''))\n",
    "data['name'] = data['id'].map(lambda x: x.split('_')[0])\n",
    "\n",
    "data['doc_id'] = data['name']\n",
    "data.tail()"
   ]
  },
  {
   "cell_type": "code",
   "execution_count": null,
   "id": "f417b8a1",
   "metadata": {},
   "outputs": [
    {
     "name": "stderr",
     "output_type": "stream",
     "text": [
      "\u001b[32m2023-10-02 22:25:50.823\u001b[0m | \u001b[33m\u001b[1mWARNING \u001b[0m | \u001b[36mmonologue.core.data.vectors.lance\u001b[0m:\u001b[36m__init__\u001b[0m:\u001b[36m36\u001b[0m - \u001b[33m\u001b[1mTable does not exist - creating it from schema <class 'monologue.entities.examples.MyriadExamples.AvengingPassengersInstruct'>\u001b[0m\n"
     ]
    },
    {
     "name": "stdout",
     "output_type": "stream",
     "text": [
      "load INSTRUCTOR_Transformer\n",
      "'NoneType' object has no attribute 'cadam32bit_grad_fp32'\n"
     ]
    },
    {
     "name": "stderr",
     "output_type": "stream",
     "text": [
      "\u001b[32m2023-10-02 22:25:56.381\u001b[0m | \u001b[1mINFO    \u001b[0m | \u001b[36mmonologue.core.data.stores.VectorStore\u001b[0m:\u001b[36madd\u001b[0m:\u001b[36m86\u001b[0m - \u001b[1mAdding 8109 to examples_AvengingPassengersInstruct...\u001b[0m\n"
     ]
    },
    {
     "name": "stdout",
     "output_type": "stream",
     "text": [
      "max_seq_length  512\n"
     ]
    }
   ],
   "source": [
    "store = VectorDataStore(AvengingPassengersInstruct)\n",
    "data = [AvengingPassengersInstruct(**d) for d in data.to_dict('records')]\n",
    "result = store.add(data)"
   ]
  },
  {
   "cell_type": "code",
   "execution_count": null,
   "id": "3856645e",
   "metadata": {},
   "outputs": [],
   "source": [
    "store.load()"
   ]
  },
  {
   "cell_type": "code",
   "execution_count": null,
   "id": "29123d88",
   "metadata": {},
   "outputs": [],
   "source": [
    "store(\"Who is Hank Pym?\")"
   ]
  },
  {
   "cell_type": "code",
   "execution_count": null,
   "id": "13f4efdc",
   "metadata": {},
   "outputs": [],
   "source": [
    "store(\"What can you tell me about captain america? What was his real name?\")"
   ]
  },
  {
   "cell_type": "markdown",
   "id": "8b0f42d0",
   "metadata": {},
   "source": [
    "### places"
   ]
  },
  {
   "cell_type": "code",
   "execution_count": null,
   "id": "7d978f7d",
   "metadata": {},
   "outputs": [],
   "source": [
    "data = pd.read_csv(\"/Users/sirsh/Downloads/nyc_zones.csv\").drop(columns='id',index=1).rename(columns={'entity_key':'id'})\n",
    "data['doc_id'] = data['id']\n",
    "data['name'] = data['id']\n",
    "data.head()"
   ]
  },
  {
   "cell_type": "code",
   "execution_count": null,
   "id": "407a7aa4",
   "metadata": {},
   "outputs": [],
   "source": [
    "records = [Places(**d) for d in data.to_dict('records')]\n",
    "#store.add(data)"
   ]
  },
  {
   "cell_type": "code",
   "execution_count": null,
   "id": "594b38e4",
   "metadata": {},
   "outputs": [],
   "source": [
    "store = VectorDataStore(Places)\n",
    "e = store.add(records[:10],plan=False)"
   ]
  },
  {
   "cell_type": "code",
   "execution_count": null,
   "id": "6762c271",
   "metadata": {},
   "outputs": [],
   "source": [
    "store.load()"
   ]
  },
  {
   "cell_type": "code",
   "execution_count": null,
   "id": "5d98fb82",
   "metadata": {},
   "outputs": [],
   "source": [
    "store(\"What can you tell me about civil airport in East Elmhurst Queens?\")"
   ]
  },
  {
   "cell_type": "code",
   "execution_count": null,
   "id": "f7c37b42",
   "metadata": {},
   "outputs": [],
   "source": [
    "store.query_index(\"What can you tell me about civil airport in East Elmhurst Queens?\")"
   ]
  },
  {
   "cell_type": "code",
   "execution_count": null,
   "id": "c231feb5",
   "metadata": {},
   "outputs": [],
   "source": []
  },
  {
   "cell_type": "code",
   "execution_count": null,
   "id": "b313428d",
   "metadata": {},
   "outputs": [],
   "source": []
  }
 ],
 "metadata": {
  "kernelspec": {
   "display_name": "Python 3 (ipykernel)",
   "language": "python",
   "name": "python3"
  },
  "language_info": {
   "codemirror_mode": {
    "name": "ipython",
    "version": 3
   },
   "file_extension": ".py",
   "mimetype": "text/x-python",
   "name": "python",
   "nbconvert_exporter": "python",
   "pygments_lexer": "ipython3",
   "version": "3.10.10"
  }
 },
 "nbformat": 4,
 "nbformat_minor": 5
}
